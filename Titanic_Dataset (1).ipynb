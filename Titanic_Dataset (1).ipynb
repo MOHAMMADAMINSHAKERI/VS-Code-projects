{
  "nbformat": 4,
  "nbformat_minor": 0,
  "metadata": {
    "colab": {
      "provenance": [],
      "collapsed_sections": [
        "m-6OMIQ9mwpE",
        "_wA2A-3mnNCR",
        "xzyZ14CNnvWf",
        "1_lVVnTxMGdk"
      ]
    },
    "kernelspec": {
      "name": "python3",
      "display_name": "Python 3"
    },
    "language_info": {
      "name": "python"
    }
  },
  "cells": [
    {
      "cell_type": "markdown",
      "source": [
        "# Titanic Data Set"
      ],
      "metadata": {
        "id": "onchxxwymqQz"
      }
    },
    {
      "cell_type": "markdown",
      "source": [
        "# Importing Necessary Libraries"
      ],
      "metadata": {
        "id": "m-6OMIQ9mwpE"
      }
    },
    {
      "cell_type": "code",
      "source": [
        "import numpy as np\n",
        "import pandas as pd\n",
        "import matplotlib.pyplot as plt\n",
        "import seaborn as sns"
      ],
      "metadata": {
        "id": "dOabmh_fmp09"
      },
      "execution_count": null,
      "outputs": []
    },
    {
      "cell_type": "markdown",
      "source": [
        "# Importing Data"
      ],
      "metadata": {
        "id": "_wA2A-3mnNCR"
      }
    },
    {
      "cell_type": "code",
      "execution_count": null,
      "metadata": {
        "id": "E-m0QJ-V0jGz"
      },
      "outputs": [],
      "source": [
        "data = pd.read_csv(\"/content/TitanicPreprocessed.csv\")"
      ]
    },
    {
      "cell_type": "markdown",
      "source": [
        "# General Info of Data"
      ],
      "metadata": {
        "id": "xzyZ14CNnvWf"
      }
    },
    {
      "cell_type": "code",
      "source": [
        "data.head(5)"
      ],
      "metadata": {
        "colab": {
          "base_uri": "https://localhost:8080/",
          "height": 255
        },
        "id": "l_n_MwaonYtA",
        "outputId": "8b9a0f77-1a30-4eb5-daa6-bdf6df253bcd"
      },
      "execution_count": null,
      "outputs": [
        {
          "output_type": "execute_result",
          "data": {
            "text/plain": [
              "   Sex   Age  SibSp  Parch     Fare  Title_Master  Title_Miss  Title_Mr  \\\n",
              "0    1  22.0      1      0   7.2500             0           0         1   \n",
              "1    0  38.0      1      0  71.2833             0           0         0   \n",
              "2    0  26.0      0      0   7.9250             0           1         0   \n",
              "3    0  35.0      1      0  53.1000             0           0         0   \n",
              "4    1  35.0      0      0   8.0500             0           0         1   \n",
              "\n",
              "   Title_Mrs  Title_Officer  ...  Ticket_STONOQ  Ticket_SWPP  Ticket_WC  \\\n",
              "0          0              0  ...              0            0          0   \n",
              "1          1              0  ...              0            0          0   \n",
              "2          0              0  ...              0            0          0   \n",
              "3          1              0  ...              0            0          0   \n",
              "4          0              0  ...              0            0          0   \n",
              "\n",
              "   Ticket_WEP  Ticket_XXX  FamilySize  Singleton  SmallFamily  LargeFamily  \\\n",
              "0           0           0           2          0            1            0   \n",
              "1           0           0           2          0            1            0   \n",
              "2           0           0           1          0            0            0   \n",
              "3           0           1           2          0            1            0   \n",
              "4           0           1           1          0            0            0   \n",
              "\n",
              "   Survived  \n",
              "0         0  \n",
              "1         1  \n",
              "2         1  \n",
              "3         1  \n",
              "4         0  \n",
              "\n",
              "[5 rows x 69 columns]"
            ],
            "text/html": [
              "\n",
              "  <div id=\"df-3e0241f7-16e0-48a6-ab72-35cb142c37a5\" class=\"colab-df-container\">\n",
              "    <div>\n",
              "<style scoped>\n",
              "    .dataframe tbody tr th:only-of-type {\n",
              "        vertical-align: middle;\n",
              "    }\n",
              "\n",
              "    .dataframe tbody tr th {\n",
              "        vertical-align: top;\n",
              "    }\n",
              "\n",
              "    .dataframe thead th {\n",
              "        text-align: right;\n",
              "    }\n",
              "</style>\n",
              "<table border=\"1\" class=\"dataframe\">\n",
              "  <thead>\n",
              "    <tr style=\"text-align: right;\">\n",
              "      <th></th>\n",
              "      <th>Sex</th>\n",
              "      <th>Age</th>\n",
              "      <th>SibSp</th>\n",
              "      <th>Parch</th>\n",
              "      <th>Fare</th>\n",
              "      <th>Title_Master</th>\n",
              "      <th>Title_Miss</th>\n",
              "      <th>Title_Mr</th>\n",
              "      <th>Title_Mrs</th>\n",
              "      <th>Title_Officer</th>\n",
              "      <th>...</th>\n",
              "      <th>Ticket_STONOQ</th>\n",
              "      <th>Ticket_SWPP</th>\n",
              "      <th>Ticket_WC</th>\n",
              "      <th>Ticket_WEP</th>\n",
              "      <th>Ticket_XXX</th>\n",
              "      <th>FamilySize</th>\n",
              "      <th>Singleton</th>\n",
              "      <th>SmallFamily</th>\n",
              "      <th>LargeFamily</th>\n",
              "      <th>Survived</th>\n",
              "    </tr>\n",
              "  </thead>\n",
              "  <tbody>\n",
              "    <tr>\n",
              "      <th>0</th>\n",
              "      <td>1</td>\n",
              "      <td>22.0</td>\n",
              "      <td>1</td>\n",
              "      <td>0</td>\n",
              "      <td>7.2500</td>\n",
              "      <td>0</td>\n",
              "      <td>0</td>\n",
              "      <td>1</td>\n",
              "      <td>0</td>\n",
              "      <td>0</td>\n",
              "      <td>...</td>\n",
              "      <td>0</td>\n",
              "      <td>0</td>\n",
              "      <td>0</td>\n",
              "      <td>0</td>\n",
              "      <td>0</td>\n",
              "      <td>2</td>\n",
              "      <td>0</td>\n",
              "      <td>1</td>\n",
              "      <td>0</td>\n",
              "      <td>0</td>\n",
              "    </tr>\n",
              "    <tr>\n",
              "      <th>1</th>\n",
              "      <td>0</td>\n",
              "      <td>38.0</td>\n",
              "      <td>1</td>\n",
              "      <td>0</td>\n",
              "      <td>71.2833</td>\n",
              "      <td>0</td>\n",
              "      <td>0</td>\n",
              "      <td>0</td>\n",
              "      <td>1</td>\n",
              "      <td>0</td>\n",
              "      <td>...</td>\n",
              "      <td>0</td>\n",
              "      <td>0</td>\n",
              "      <td>0</td>\n",
              "      <td>0</td>\n",
              "      <td>0</td>\n",
              "      <td>2</td>\n",
              "      <td>0</td>\n",
              "      <td>1</td>\n",
              "      <td>0</td>\n",
              "      <td>1</td>\n",
              "    </tr>\n",
              "    <tr>\n",
              "      <th>2</th>\n",
              "      <td>0</td>\n",
              "      <td>26.0</td>\n",
              "      <td>0</td>\n",
              "      <td>0</td>\n",
              "      <td>7.9250</td>\n",
              "      <td>0</td>\n",
              "      <td>1</td>\n",
              "      <td>0</td>\n",
              "      <td>0</td>\n",
              "      <td>0</td>\n",
              "      <td>...</td>\n",
              "      <td>0</td>\n",
              "      <td>0</td>\n",
              "      <td>0</td>\n",
              "      <td>0</td>\n",
              "      <td>0</td>\n",
              "      <td>1</td>\n",
              "      <td>0</td>\n",
              "      <td>0</td>\n",
              "      <td>0</td>\n",
              "      <td>1</td>\n",
              "    </tr>\n",
              "    <tr>\n",
              "      <th>3</th>\n",
              "      <td>0</td>\n",
              "      <td>35.0</td>\n",
              "      <td>1</td>\n",
              "      <td>0</td>\n",
              "      <td>53.1000</td>\n",
              "      <td>0</td>\n",
              "      <td>0</td>\n",
              "      <td>0</td>\n",
              "      <td>1</td>\n",
              "      <td>0</td>\n",
              "      <td>...</td>\n",
              "      <td>0</td>\n",
              "      <td>0</td>\n",
              "      <td>0</td>\n",
              "      <td>0</td>\n",
              "      <td>1</td>\n",
              "      <td>2</td>\n",
              "      <td>0</td>\n",
              "      <td>1</td>\n",
              "      <td>0</td>\n",
              "      <td>1</td>\n",
              "    </tr>\n",
              "    <tr>\n",
              "      <th>4</th>\n",
              "      <td>1</td>\n",
              "      <td>35.0</td>\n",
              "      <td>0</td>\n",
              "      <td>0</td>\n",
              "      <td>8.0500</td>\n",
              "      <td>0</td>\n",
              "      <td>0</td>\n",
              "      <td>1</td>\n",
              "      <td>0</td>\n",
              "      <td>0</td>\n",
              "      <td>...</td>\n",
              "      <td>0</td>\n",
              "      <td>0</td>\n",
              "      <td>0</td>\n",
              "      <td>0</td>\n",
              "      <td>1</td>\n",
              "      <td>1</td>\n",
              "      <td>0</td>\n",
              "      <td>0</td>\n",
              "      <td>0</td>\n",
              "      <td>0</td>\n",
              "    </tr>\n",
              "  </tbody>\n",
              "</table>\n",
              "<p>5 rows × 69 columns</p>\n",
              "</div>\n",
              "    <div class=\"colab-df-buttons\">\n",
              "\n",
              "  <div class=\"colab-df-container\">\n",
              "    <button class=\"colab-df-convert\" onclick=\"convertToInteractive('df-3e0241f7-16e0-48a6-ab72-35cb142c37a5')\"\n",
              "            title=\"Convert this dataframe to an interactive table.\"\n",
              "            style=\"display:none;\">\n",
              "\n",
              "  <svg xmlns=\"http://www.w3.org/2000/svg\" height=\"24px\" viewBox=\"0 -960 960 960\">\n",
              "    <path d=\"M120-120v-720h720v720H120Zm60-500h600v-160H180v160Zm220 220h160v-160H400v160Zm0 220h160v-160H400v160ZM180-400h160v-160H180v160Zm440 0h160v-160H620v160ZM180-180h160v-160H180v160Zm440 0h160v-160H620v160Z\"/>\n",
              "  </svg>\n",
              "    </button>\n",
              "\n",
              "  <style>\n",
              "    .colab-df-container {\n",
              "      display:flex;\n",
              "      gap: 12px;\n",
              "    }\n",
              "\n",
              "    .colab-df-convert {\n",
              "      background-color: #E8F0FE;\n",
              "      border: none;\n",
              "      border-radius: 50%;\n",
              "      cursor: pointer;\n",
              "      display: none;\n",
              "      fill: #1967D2;\n",
              "      height: 32px;\n",
              "      padding: 0 0 0 0;\n",
              "      width: 32px;\n",
              "    }\n",
              "\n",
              "    .colab-df-convert:hover {\n",
              "      background-color: #E2EBFA;\n",
              "      box-shadow: 0px 1px 2px rgba(60, 64, 67, 0.3), 0px 1px 3px 1px rgba(60, 64, 67, 0.15);\n",
              "      fill: #174EA6;\n",
              "    }\n",
              "\n",
              "    .colab-df-buttons div {\n",
              "      margin-bottom: 4px;\n",
              "    }\n",
              "\n",
              "    [theme=dark] .colab-df-convert {\n",
              "      background-color: #3B4455;\n",
              "      fill: #D2E3FC;\n",
              "    }\n",
              "\n",
              "    [theme=dark] .colab-df-convert:hover {\n",
              "      background-color: #434B5C;\n",
              "      box-shadow: 0px 1px 3px 1px rgba(0, 0, 0, 0.15);\n",
              "      filter: drop-shadow(0px 1px 2px rgba(0, 0, 0, 0.3));\n",
              "      fill: #FFFFFF;\n",
              "    }\n",
              "  </style>\n",
              "\n",
              "    <script>\n",
              "      const buttonEl =\n",
              "        document.querySelector('#df-3e0241f7-16e0-48a6-ab72-35cb142c37a5 button.colab-df-convert');\n",
              "      buttonEl.style.display =\n",
              "        google.colab.kernel.accessAllowed ? 'block' : 'none';\n",
              "\n",
              "      async function convertToInteractive(key) {\n",
              "        const element = document.querySelector('#df-3e0241f7-16e0-48a6-ab72-35cb142c37a5');\n",
              "        const dataTable =\n",
              "          await google.colab.kernel.invokeFunction('convertToInteractive',\n",
              "                                                    [key], {});\n",
              "        if (!dataTable) return;\n",
              "\n",
              "        const docLinkHtml = 'Like what you see? Visit the ' +\n",
              "          '<a target=\"_blank\" href=https://colab.research.google.com/notebooks/data_table.ipynb>data table notebook</a>'\n",
              "          + ' to learn more about interactive tables.';\n",
              "        element.innerHTML = '';\n",
              "        dataTable['output_type'] = 'display_data';\n",
              "        await google.colab.output.renderOutput(dataTable, element);\n",
              "        const docLink = document.createElement('div');\n",
              "        docLink.innerHTML = docLinkHtml;\n",
              "        element.appendChild(docLink);\n",
              "      }\n",
              "    </script>\n",
              "  </div>\n",
              "\n",
              "\n",
              "    <div id=\"df-f6c107d8-7eef-4cd5-ad37-362dc9407532\">\n",
              "      <button class=\"colab-df-quickchart\" onclick=\"quickchart('df-f6c107d8-7eef-4cd5-ad37-362dc9407532')\"\n",
              "                title=\"Suggest charts\"\n",
              "                style=\"display:none;\">\n",
              "\n",
              "<svg xmlns=\"http://www.w3.org/2000/svg\" height=\"24px\"viewBox=\"0 0 24 24\"\n",
              "     width=\"24px\">\n",
              "    <g>\n",
              "        <path d=\"M19 3H5c-1.1 0-2 .9-2 2v14c0 1.1.9 2 2 2h14c1.1 0 2-.9 2-2V5c0-1.1-.9-2-2-2zM9 17H7v-7h2v7zm4 0h-2V7h2v10zm4 0h-2v-4h2v4z\"/>\n",
              "    </g>\n",
              "</svg>\n",
              "      </button>\n",
              "\n",
              "<style>\n",
              "  .colab-df-quickchart {\n",
              "      --bg-color: #E8F0FE;\n",
              "      --fill-color: #1967D2;\n",
              "      --hover-bg-color: #E2EBFA;\n",
              "      --hover-fill-color: #174EA6;\n",
              "      --disabled-fill-color: #AAA;\n",
              "      --disabled-bg-color: #DDD;\n",
              "  }\n",
              "\n",
              "  [theme=dark] .colab-df-quickchart {\n",
              "      --bg-color: #3B4455;\n",
              "      --fill-color: #D2E3FC;\n",
              "      --hover-bg-color: #434B5C;\n",
              "      --hover-fill-color: #FFFFFF;\n",
              "      --disabled-bg-color: #3B4455;\n",
              "      --disabled-fill-color: #666;\n",
              "  }\n",
              "\n",
              "  .colab-df-quickchart {\n",
              "    background-color: var(--bg-color);\n",
              "    border: none;\n",
              "    border-radius: 50%;\n",
              "    cursor: pointer;\n",
              "    display: none;\n",
              "    fill: var(--fill-color);\n",
              "    height: 32px;\n",
              "    padding: 0;\n",
              "    width: 32px;\n",
              "  }\n",
              "\n",
              "  .colab-df-quickchart:hover {\n",
              "    background-color: var(--hover-bg-color);\n",
              "    box-shadow: 0 1px 2px rgba(60, 64, 67, 0.3), 0 1px 3px 1px rgba(60, 64, 67, 0.15);\n",
              "    fill: var(--button-hover-fill-color);\n",
              "  }\n",
              "\n",
              "  .colab-df-quickchart-complete:disabled,\n",
              "  .colab-df-quickchart-complete:disabled:hover {\n",
              "    background-color: var(--disabled-bg-color);\n",
              "    fill: var(--disabled-fill-color);\n",
              "    box-shadow: none;\n",
              "  }\n",
              "\n",
              "  .colab-df-spinner {\n",
              "    border: 2px solid var(--fill-color);\n",
              "    border-color: transparent;\n",
              "    border-bottom-color: var(--fill-color);\n",
              "    animation:\n",
              "      spin 1s steps(1) infinite;\n",
              "  }\n",
              "\n",
              "  @keyframes spin {\n",
              "    0% {\n",
              "      border-color: transparent;\n",
              "      border-bottom-color: var(--fill-color);\n",
              "      border-left-color: var(--fill-color);\n",
              "    }\n",
              "    20% {\n",
              "      border-color: transparent;\n",
              "      border-left-color: var(--fill-color);\n",
              "      border-top-color: var(--fill-color);\n",
              "    }\n",
              "    30% {\n",
              "      border-color: transparent;\n",
              "      border-left-color: var(--fill-color);\n",
              "      border-top-color: var(--fill-color);\n",
              "      border-right-color: var(--fill-color);\n",
              "    }\n",
              "    40% {\n",
              "      border-color: transparent;\n",
              "      border-right-color: var(--fill-color);\n",
              "      border-top-color: var(--fill-color);\n",
              "    }\n",
              "    60% {\n",
              "      border-color: transparent;\n",
              "      border-right-color: var(--fill-color);\n",
              "    }\n",
              "    80% {\n",
              "      border-color: transparent;\n",
              "      border-right-color: var(--fill-color);\n",
              "      border-bottom-color: var(--fill-color);\n",
              "    }\n",
              "    90% {\n",
              "      border-color: transparent;\n",
              "      border-bottom-color: var(--fill-color);\n",
              "    }\n",
              "  }\n",
              "</style>\n",
              "\n",
              "      <script>\n",
              "        async function quickchart(key) {\n",
              "          const quickchartButtonEl =\n",
              "            document.querySelector('#' + key + ' button');\n",
              "          quickchartButtonEl.disabled = true;  // To prevent multiple clicks.\n",
              "          quickchartButtonEl.classList.add('colab-df-spinner');\n",
              "          try {\n",
              "            const charts = await google.colab.kernel.invokeFunction(\n",
              "                'suggestCharts', [key], {});\n",
              "          } catch (error) {\n",
              "            console.error('Error during call to suggestCharts:', error);\n",
              "          }\n",
              "          quickchartButtonEl.classList.remove('colab-df-spinner');\n",
              "          quickchartButtonEl.classList.add('colab-df-quickchart-complete');\n",
              "        }\n",
              "        (() => {\n",
              "          let quickchartButtonEl =\n",
              "            document.querySelector('#df-f6c107d8-7eef-4cd5-ad37-362dc9407532 button');\n",
              "          quickchartButtonEl.style.display =\n",
              "            google.colab.kernel.accessAllowed ? 'block' : 'none';\n",
              "        })();\n",
              "      </script>\n",
              "    </div>\n",
              "\n",
              "    </div>\n",
              "  </div>\n"
            ],
            "application/vnd.google.colaboratory.intrinsic+json": {
              "type": "dataframe",
              "variable_name": "data"
            }
          },
          "metadata": {},
          "execution_count": 5
        }
      ]
    },
    {
      "cell_type": "code",
      "source": [
        "data.shape"
      ],
      "metadata": {
        "colab": {
          "base_uri": "https://localhost:8080/"
        },
        "id": "b_wFyygTor5X",
        "outputId": "dd8c7b8b-6398-4293-b571-c5d07d7d872b"
      },
      "execution_count": null,
      "outputs": [
        {
          "output_type": "execute_result",
          "data": {
            "text/plain": [
              "(891, 69)"
            ]
          },
          "metadata": {},
          "execution_count": 6
        }
      ]
    },
    {
      "cell_type": "code",
      "source": [
        "data.info()"
      ],
      "metadata": {
        "colab": {
          "base_uri": "https://localhost:8080/"
        },
        "id": "0FRnDeN7nZeE",
        "outputId": "9ac5b626-1cac-436d-89a8-2c2e2754d2b7"
      },
      "execution_count": null,
      "outputs": [
        {
          "output_type": "stream",
          "name": "stdout",
          "text": [
            "<class 'pandas.core.frame.DataFrame'>\n",
            "RangeIndex: 891 entries, 0 to 890\n",
            "Data columns (total 69 columns):\n",
            " #   Column          Non-Null Count  Dtype  \n",
            "---  ------          --------------  -----  \n",
            " 0   Sex             891 non-null    int64  \n",
            " 1   Age             891 non-null    float64\n",
            " 2   SibSp           891 non-null    int64  \n",
            " 3   Parch           891 non-null    int64  \n",
            " 4   Fare            891 non-null    float64\n",
            " 5   Title_Master    891 non-null    int64  \n",
            " 6   Title_Miss      891 non-null    int64  \n",
            " 7   Title_Mr        891 non-null    int64  \n",
            " 8   Title_Mrs       891 non-null    int64  \n",
            " 9   Title_Officer   891 non-null    int64  \n",
            " 10  Title_Royalty   891 non-null    int64  \n",
            " 11  Embarked_C      891 non-null    int64  \n",
            " 12  Embarked_Q      891 non-null    int64  \n",
            " 13  Embarked_S      891 non-null    int64  \n",
            " 14  Cabin_A         891 non-null    int64  \n",
            " 15  Cabin_B         891 non-null    int64  \n",
            " 16  Cabin_C         891 non-null    int64  \n",
            " 17  Cabin_D         891 non-null    int64  \n",
            " 18  Cabin_E         891 non-null    int64  \n",
            " 19  Cabin_F         891 non-null    int64  \n",
            " 20  Cabin_G         891 non-null    int64  \n",
            " 21  Cabin_T         891 non-null    int64  \n",
            " 22  Cabin_U         891 non-null    int64  \n",
            " 23  IsChild         891 non-null    int64  \n",
            " 24  Pclass_1        891 non-null    int64  \n",
            " 25  Pclass_2        891 non-null    int64  \n",
            " 26  Pclass_3        891 non-null    int64  \n",
            " 27  Ticket_A        891 non-null    int64  \n",
            " 28  Ticket_A4       891 non-null    int64  \n",
            " 29  Ticket_A5       891 non-null    int64  \n",
            " 30  Ticket_AQ3      891 non-null    int64  \n",
            " 31  Ticket_AQ4      891 non-null    int64  \n",
            " 32  Ticket_AS       891 non-null    int64  \n",
            " 33  Ticket_C        891 non-null    int64  \n",
            " 34  Ticket_CA       891 non-null    int64  \n",
            " 35  Ticket_CASOTON  891 non-null    int64  \n",
            " 36  Ticket_FC       891 non-null    int64  \n",
            " 37  Ticket_FCC      891 non-null    int64  \n",
            " 38  Ticket_Fa       891 non-null    int64  \n",
            " 39  Ticket_LINE     891 non-null    int64  \n",
            " 40  Ticket_LP       891 non-null    int64  \n",
            " 41  Ticket_PC       891 non-null    int64  \n",
            " 42  Ticket_PP       891 non-null    int64  \n",
            " 43  Ticket_PPP      891 non-null    int64  \n",
            " 44  Ticket_SC       891 non-null    int64  \n",
            " 45  Ticket_SCA3     891 non-null    int64  \n",
            " 46  Ticket_SCA4     891 non-null    int64  \n",
            " 47  Ticket_SCAH     891 non-null    int64  \n",
            " 48  Ticket_SCOW     891 non-null    int64  \n",
            " 49  Ticket_SCPARIS  891 non-null    int64  \n",
            " 50  Ticket_SCParis  891 non-null    int64  \n",
            " 51  Ticket_SOC      891 non-null    int64  \n",
            " 52  Ticket_SOP      891 non-null    int64  \n",
            " 53  Ticket_SOPP     891 non-null    int64  \n",
            " 54  Ticket_SOTONO2  891 non-null    int64  \n",
            " 55  Ticket_SOTONOQ  891 non-null    int64  \n",
            " 56  Ticket_SP       891 non-null    int64  \n",
            " 57  Ticket_STONO    891 non-null    int64  \n",
            " 58  Ticket_STONO2   891 non-null    int64  \n",
            " 59  Ticket_STONOQ   891 non-null    int64  \n",
            " 60  Ticket_SWPP     891 non-null    int64  \n",
            " 61  Ticket_WC       891 non-null    int64  \n",
            " 62  Ticket_WEP      891 non-null    int64  \n",
            " 63  Ticket_XXX      891 non-null    int64  \n",
            " 64  FamilySize      891 non-null    int64  \n",
            " 65  Singleton       891 non-null    int64  \n",
            " 66  SmallFamily     891 non-null    int64  \n",
            " 67  LargeFamily     891 non-null    int64  \n",
            " 68  Survived        891 non-null    int64  \n",
            "dtypes: float64(2), int64(67)\n",
            "memory usage: 480.4 KB\n"
          ]
        }
      ]
    },
    {
      "cell_type": "code",
      "source": [
        "data.isnull().sum()"
      ],
      "metadata": {
        "colab": {
          "base_uri": "https://localhost:8080/",
          "height": 458
        },
        "id": "beJtATxdoAo0",
        "outputId": "179e675c-942b-4b1d-a664-915eeb1b1f5c"
      },
      "execution_count": null,
      "outputs": [
        {
          "output_type": "execute_result",
          "data": {
            "text/plain": [
              "Sex            0\n",
              "Age            0\n",
              "SibSp          0\n",
              "Parch          0\n",
              "Fare           0\n",
              "              ..\n",
              "FamilySize     0\n",
              "Singleton      0\n",
              "SmallFamily    0\n",
              "LargeFamily    0\n",
              "Survived       0\n",
              "Length: 69, dtype: int64"
            ],
            "text/html": [
              "<div>\n",
              "<style scoped>\n",
              "    .dataframe tbody tr th:only-of-type {\n",
              "        vertical-align: middle;\n",
              "    }\n",
              "\n",
              "    .dataframe tbody tr th {\n",
              "        vertical-align: top;\n",
              "    }\n",
              "\n",
              "    .dataframe thead th {\n",
              "        text-align: right;\n",
              "    }\n",
              "</style>\n",
              "<table border=\"1\" class=\"dataframe\">\n",
              "  <thead>\n",
              "    <tr style=\"text-align: right;\">\n",
              "      <th></th>\n",
              "      <th>0</th>\n",
              "    </tr>\n",
              "  </thead>\n",
              "  <tbody>\n",
              "    <tr>\n",
              "      <th>Sex</th>\n",
              "      <td>0</td>\n",
              "    </tr>\n",
              "    <tr>\n",
              "      <th>Age</th>\n",
              "      <td>0</td>\n",
              "    </tr>\n",
              "    <tr>\n",
              "      <th>SibSp</th>\n",
              "      <td>0</td>\n",
              "    </tr>\n",
              "    <tr>\n",
              "      <th>Parch</th>\n",
              "      <td>0</td>\n",
              "    </tr>\n",
              "    <tr>\n",
              "      <th>Fare</th>\n",
              "      <td>0</td>\n",
              "    </tr>\n",
              "    <tr>\n",
              "      <th>...</th>\n",
              "      <td>...</td>\n",
              "    </tr>\n",
              "    <tr>\n",
              "      <th>FamilySize</th>\n",
              "      <td>0</td>\n",
              "    </tr>\n",
              "    <tr>\n",
              "      <th>Singleton</th>\n",
              "      <td>0</td>\n",
              "    </tr>\n",
              "    <tr>\n",
              "      <th>SmallFamily</th>\n",
              "      <td>0</td>\n",
              "    </tr>\n",
              "    <tr>\n",
              "      <th>LargeFamily</th>\n",
              "      <td>0</td>\n",
              "    </tr>\n",
              "    <tr>\n",
              "      <th>Survived</th>\n",
              "      <td>0</td>\n",
              "    </tr>\n",
              "  </tbody>\n",
              "</table>\n",
              "<p>69 rows × 1 columns</p>\n",
              "</div><br><label><b>dtype:</b> int64</label>"
            ]
          },
          "metadata": {},
          "execution_count": 8
        }
      ]
    },
    {
      "cell_type": "code",
      "source": [
        "data.describe()"
      ],
      "metadata": {
        "colab": {
          "base_uri": "https://localhost:8080/",
          "height": 349
        },
        "id": "L7yWMEEtnfKX",
        "outputId": "4956abe9-3680-4489-8995-db79e11f3a03"
      },
      "execution_count": null,
      "outputs": [
        {
          "output_type": "execute_result",
          "data": {
            "text/plain": [
              "              Sex         Age       SibSp       Parch        Fare  \\\n",
              "count  891.000000  891.000000  891.000000  891.000000  891.000000   \n",
              "mean     0.647587   29.207823    0.523008    0.381594   32.204208   \n",
              "std      0.477990   13.557871    1.102743    0.806057   49.693429   \n",
              "min      0.000000    0.420000    0.000000    0.000000    0.000000   \n",
              "25%      0.000000   21.000000    0.000000    0.000000    7.910400   \n",
              "50%      1.000000   26.000000    0.000000    0.000000   14.454200   \n",
              "75%      1.000000   36.750000    1.000000    0.000000   31.000000   \n",
              "max      1.000000   80.000000    8.000000    6.000000  512.329200   \n",
              "\n",
              "       Title_Master  Title_Miss    Title_Mr   Title_Mrs  Title_Officer  ...  \\\n",
              "count    891.000000  891.000000  891.000000  891.000000     891.000000  ...   \n",
              "mean       0.044893    0.206510    0.580247    0.142536       0.020202  ...   \n",
              "std        0.207186    0.405028    0.493796    0.349796       0.140770  ...   \n",
              "min        0.000000    0.000000    0.000000    0.000000       0.000000  ...   \n",
              "25%        0.000000    0.000000    0.000000    0.000000       0.000000  ...   \n",
              "50%        0.000000    0.000000    1.000000    0.000000       0.000000  ...   \n",
              "75%        0.000000    0.000000    1.000000    0.000000       0.000000  ...   \n",
              "max        1.000000    1.000000    1.000000    1.000000       1.000000  ...   \n",
              "\n",
              "       Ticket_STONOQ  Ticket_SWPP   Ticket_WC  Ticket_WEP  Ticket_XXX  \\\n",
              "count          891.0   891.000000  891.000000  891.000000  891.000000   \n",
              "mean             0.0     0.002245    0.011223    0.003367    0.741863   \n",
              "std              0.0     0.047351    0.105403    0.057961    0.437855   \n",
              "min              0.0     0.000000    0.000000    0.000000    0.000000   \n",
              "25%              0.0     0.000000    0.000000    0.000000    0.000000   \n",
              "50%              0.0     0.000000    0.000000    0.000000    1.000000   \n",
              "75%              0.0     0.000000    0.000000    0.000000    1.000000   \n",
              "max              0.0     1.000000    1.000000    1.000000    1.000000   \n",
              "\n",
              "       FamilySize  Singleton  SmallFamily  LargeFamily    Survived  \n",
              "count  891.000000      891.0   891.000000   891.000000  891.000000  \n",
              "mean     1.904602        0.0     0.327722     0.069585    0.383838  \n",
              "std      1.613459        0.0     0.469646     0.254589    0.486592  \n",
              "min      1.000000        0.0     0.000000     0.000000    0.000000  \n",
              "25%      1.000000        0.0     0.000000     0.000000    0.000000  \n",
              "50%      1.000000        0.0     0.000000     0.000000    0.000000  \n",
              "75%      2.000000        0.0     1.000000     0.000000    1.000000  \n",
              "max     11.000000        0.0     1.000000     1.000000    1.000000  \n",
              "\n",
              "[8 rows x 69 columns]"
            ],
            "text/html": [
              "\n",
              "  <div id=\"df-3a39b841-49f0-423a-958e-8634610c48a3\" class=\"colab-df-container\">\n",
              "    <div>\n",
              "<style scoped>\n",
              "    .dataframe tbody tr th:only-of-type {\n",
              "        vertical-align: middle;\n",
              "    }\n",
              "\n",
              "    .dataframe tbody tr th {\n",
              "        vertical-align: top;\n",
              "    }\n",
              "\n",
              "    .dataframe thead th {\n",
              "        text-align: right;\n",
              "    }\n",
              "</style>\n",
              "<table border=\"1\" class=\"dataframe\">\n",
              "  <thead>\n",
              "    <tr style=\"text-align: right;\">\n",
              "      <th></th>\n",
              "      <th>Sex</th>\n",
              "      <th>Age</th>\n",
              "      <th>SibSp</th>\n",
              "      <th>Parch</th>\n",
              "      <th>Fare</th>\n",
              "      <th>Title_Master</th>\n",
              "      <th>Title_Miss</th>\n",
              "      <th>Title_Mr</th>\n",
              "      <th>Title_Mrs</th>\n",
              "      <th>Title_Officer</th>\n",
              "      <th>...</th>\n",
              "      <th>Ticket_STONOQ</th>\n",
              "      <th>Ticket_SWPP</th>\n",
              "      <th>Ticket_WC</th>\n",
              "      <th>Ticket_WEP</th>\n",
              "      <th>Ticket_XXX</th>\n",
              "      <th>FamilySize</th>\n",
              "      <th>Singleton</th>\n",
              "      <th>SmallFamily</th>\n",
              "      <th>LargeFamily</th>\n",
              "      <th>Survived</th>\n",
              "    </tr>\n",
              "  </thead>\n",
              "  <tbody>\n",
              "    <tr>\n",
              "      <th>count</th>\n",
              "      <td>891.000000</td>\n",
              "      <td>891.000000</td>\n",
              "      <td>891.000000</td>\n",
              "      <td>891.000000</td>\n",
              "      <td>891.000000</td>\n",
              "      <td>891.000000</td>\n",
              "      <td>891.000000</td>\n",
              "      <td>891.000000</td>\n",
              "      <td>891.000000</td>\n",
              "      <td>891.000000</td>\n",
              "      <td>...</td>\n",
              "      <td>891.0</td>\n",
              "      <td>891.000000</td>\n",
              "      <td>891.000000</td>\n",
              "      <td>891.000000</td>\n",
              "      <td>891.000000</td>\n",
              "      <td>891.000000</td>\n",
              "      <td>891.0</td>\n",
              "      <td>891.000000</td>\n",
              "      <td>891.000000</td>\n",
              "      <td>891.000000</td>\n",
              "    </tr>\n",
              "    <tr>\n",
              "      <th>mean</th>\n",
              "      <td>0.647587</td>\n",
              "      <td>29.207823</td>\n",
              "      <td>0.523008</td>\n",
              "      <td>0.381594</td>\n",
              "      <td>32.204208</td>\n",
              "      <td>0.044893</td>\n",
              "      <td>0.206510</td>\n",
              "      <td>0.580247</td>\n",
              "      <td>0.142536</td>\n",
              "      <td>0.020202</td>\n",
              "      <td>...</td>\n",
              "      <td>0.0</td>\n",
              "      <td>0.002245</td>\n",
              "      <td>0.011223</td>\n",
              "      <td>0.003367</td>\n",
              "      <td>0.741863</td>\n",
              "      <td>1.904602</td>\n",
              "      <td>0.0</td>\n",
              "      <td>0.327722</td>\n",
              "      <td>0.069585</td>\n",
              "      <td>0.383838</td>\n",
              "    </tr>\n",
              "    <tr>\n",
              "      <th>std</th>\n",
              "      <td>0.477990</td>\n",
              "      <td>13.557871</td>\n",
              "      <td>1.102743</td>\n",
              "      <td>0.806057</td>\n",
              "      <td>49.693429</td>\n",
              "      <td>0.207186</td>\n",
              "      <td>0.405028</td>\n",
              "      <td>0.493796</td>\n",
              "      <td>0.349796</td>\n",
              "      <td>0.140770</td>\n",
              "      <td>...</td>\n",
              "      <td>0.0</td>\n",
              "      <td>0.047351</td>\n",
              "      <td>0.105403</td>\n",
              "      <td>0.057961</td>\n",
              "      <td>0.437855</td>\n",
              "      <td>1.613459</td>\n",
              "      <td>0.0</td>\n",
              "      <td>0.469646</td>\n",
              "      <td>0.254589</td>\n",
              "      <td>0.486592</td>\n",
              "    </tr>\n",
              "    <tr>\n",
              "      <th>min</th>\n",
              "      <td>0.000000</td>\n",
              "      <td>0.420000</td>\n",
              "      <td>0.000000</td>\n",
              "      <td>0.000000</td>\n",
              "      <td>0.000000</td>\n",
              "      <td>0.000000</td>\n",
              "      <td>0.000000</td>\n",
              "      <td>0.000000</td>\n",
              "      <td>0.000000</td>\n",
              "      <td>0.000000</td>\n",
              "      <td>...</td>\n",
              "      <td>0.0</td>\n",
              "      <td>0.000000</td>\n",
              "      <td>0.000000</td>\n",
              "      <td>0.000000</td>\n",
              "      <td>0.000000</td>\n",
              "      <td>1.000000</td>\n",
              "      <td>0.0</td>\n",
              "      <td>0.000000</td>\n",
              "      <td>0.000000</td>\n",
              "      <td>0.000000</td>\n",
              "    </tr>\n",
              "    <tr>\n",
              "      <th>25%</th>\n",
              "      <td>0.000000</td>\n",
              "      <td>21.000000</td>\n",
              "      <td>0.000000</td>\n",
              "      <td>0.000000</td>\n",
              "      <td>7.910400</td>\n",
              "      <td>0.000000</td>\n",
              "      <td>0.000000</td>\n",
              "      <td>0.000000</td>\n",
              "      <td>0.000000</td>\n",
              "      <td>0.000000</td>\n",
              "      <td>...</td>\n",
              "      <td>0.0</td>\n",
              "      <td>0.000000</td>\n",
              "      <td>0.000000</td>\n",
              "      <td>0.000000</td>\n",
              "      <td>0.000000</td>\n",
              "      <td>1.000000</td>\n",
              "      <td>0.0</td>\n",
              "      <td>0.000000</td>\n",
              "      <td>0.000000</td>\n",
              "      <td>0.000000</td>\n",
              "    </tr>\n",
              "    <tr>\n",
              "      <th>50%</th>\n",
              "      <td>1.000000</td>\n",
              "      <td>26.000000</td>\n",
              "      <td>0.000000</td>\n",
              "      <td>0.000000</td>\n",
              "      <td>14.454200</td>\n",
              "      <td>0.000000</td>\n",
              "      <td>0.000000</td>\n",
              "      <td>1.000000</td>\n",
              "      <td>0.000000</td>\n",
              "      <td>0.000000</td>\n",
              "      <td>...</td>\n",
              "      <td>0.0</td>\n",
              "      <td>0.000000</td>\n",
              "      <td>0.000000</td>\n",
              "      <td>0.000000</td>\n",
              "      <td>1.000000</td>\n",
              "      <td>1.000000</td>\n",
              "      <td>0.0</td>\n",
              "      <td>0.000000</td>\n",
              "      <td>0.000000</td>\n",
              "      <td>0.000000</td>\n",
              "    </tr>\n",
              "    <tr>\n",
              "      <th>75%</th>\n",
              "      <td>1.000000</td>\n",
              "      <td>36.750000</td>\n",
              "      <td>1.000000</td>\n",
              "      <td>0.000000</td>\n",
              "      <td>31.000000</td>\n",
              "      <td>0.000000</td>\n",
              "      <td>0.000000</td>\n",
              "      <td>1.000000</td>\n",
              "      <td>0.000000</td>\n",
              "      <td>0.000000</td>\n",
              "      <td>...</td>\n",
              "      <td>0.0</td>\n",
              "      <td>0.000000</td>\n",
              "      <td>0.000000</td>\n",
              "      <td>0.000000</td>\n",
              "      <td>1.000000</td>\n",
              "      <td>2.000000</td>\n",
              "      <td>0.0</td>\n",
              "      <td>1.000000</td>\n",
              "      <td>0.000000</td>\n",
              "      <td>1.000000</td>\n",
              "    </tr>\n",
              "    <tr>\n",
              "      <th>max</th>\n",
              "      <td>1.000000</td>\n",
              "      <td>80.000000</td>\n",
              "      <td>8.000000</td>\n",
              "      <td>6.000000</td>\n",
              "      <td>512.329200</td>\n",
              "      <td>1.000000</td>\n",
              "      <td>1.000000</td>\n",
              "      <td>1.000000</td>\n",
              "      <td>1.000000</td>\n",
              "      <td>1.000000</td>\n",
              "      <td>...</td>\n",
              "      <td>0.0</td>\n",
              "      <td>1.000000</td>\n",
              "      <td>1.000000</td>\n",
              "      <td>1.000000</td>\n",
              "      <td>1.000000</td>\n",
              "      <td>11.000000</td>\n",
              "      <td>0.0</td>\n",
              "      <td>1.000000</td>\n",
              "      <td>1.000000</td>\n",
              "      <td>1.000000</td>\n",
              "    </tr>\n",
              "  </tbody>\n",
              "</table>\n",
              "<p>8 rows × 69 columns</p>\n",
              "</div>\n",
              "    <div class=\"colab-df-buttons\">\n",
              "\n",
              "  <div class=\"colab-df-container\">\n",
              "    <button class=\"colab-df-convert\" onclick=\"convertToInteractive('df-3a39b841-49f0-423a-958e-8634610c48a3')\"\n",
              "            title=\"Convert this dataframe to an interactive table.\"\n",
              "            style=\"display:none;\">\n",
              "\n",
              "  <svg xmlns=\"http://www.w3.org/2000/svg\" height=\"24px\" viewBox=\"0 -960 960 960\">\n",
              "    <path d=\"M120-120v-720h720v720H120Zm60-500h600v-160H180v160Zm220 220h160v-160H400v160Zm0 220h160v-160H400v160ZM180-400h160v-160H180v160Zm440 0h160v-160H620v160ZM180-180h160v-160H180v160Zm440 0h160v-160H620v160Z\"/>\n",
              "  </svg>\n",
              "    </button>\n",
              "\n",
              "  <style>\n",
              "    .colab-df-container {\n",
              "      display:flex;\n",
              "      gap: 12px;\n",
              "    }\n",
              "\n",
              "    .colab-df-convert {\n",
              "      background-color: #E8F0FE;\n",
              "      border: none;\n",
              "      border-radius: 50%;\n",
              "      cursor: pointer;\n",
              "      display: none;\n",
              "      fill: #1967D2;\n",
              "      height: 32px;\n",
              "      padding: 0 0 0 0;\n",
              "      width: 32px;\n",
              "    }\n",
              "\n",
              "    .colab-df-convert:hover {\n",
              "      background-color: #E2EBFA;\n",
              "      box-shadow: 0px 1px 2px rgba(60, 64, 67, 0.3), 0px 1px 3px 1px rgba(60, 64, 67, 0.15);\n",
              "      fill: #174EA6;\n",
              "    }\n",
              "\n",
              "    .colab-df-buttons div {\n",
              "      margin-bottom: 4px;\n",
              "    }\n",
              "\n",
              "    [theme=dark] .colab-df-convert {\n",
              "      background-color: #3B4455;\n",
              "      fill: #D2E3FC;\n",
              "    }\n",
              "\n",
              "    [theme=dark] .colab-df-convert:hover {\n",
              "      background-color: #434B5C;\n",
              "      box-shadow: 0px 1px 3px 1px rgba(0, 0, 0, 0.15);\n",
              "      filter: drop-shadow(0px 1px 2px rgba(0, 0, 0, 0.3));\n",
              "      fill: #FFFFFF;\n",
              "    }\n",
              "  </style>\n",
              "\n",
              "    <script>\n",
              "      const buttonEl =\n",
              "        document.querySelector('#df-3a39b841-49f0-423a-958e-8634610c48a3 button.colab-df-convert');\n",
              "      buttonEl.style.display =\n",
              "        google.colab.kernel.accessAllowed ? 'block' : 'none';\n",
              "\n",
              "      async function convertToInteractive(key) {\n",
              "        const element = document.querySelector('#df-3a39b841-49f0-423a-958e-8634610c48a3');\n",
              "        const dataTable =\n",
              "          await google.colab.kernel.invokeFunction('convertToInteractive',\n",
              "                                                    [key], {});\n",
              "        if (!dataTable) return;\n",
              "\n",
              "        const docLinkHtml = 'Like what you see? Visit the ' +\n",
              "          '<a target=\"_blank\" href=https://colab.research.google.com/notebooks/data_table.ipynb>data table notebook</a>'\n",
              "          + ' to learn more about interactive tables.';\n",
              "        element.innerHTML = '';\n",
              "        dataTable['output_type'] = 'display_data';\n",
              "        await google.colab.output.renderOutput(dataTable, element);\n",
              "        const docLink = document.createElement('div');\n",
              "        docLink.innerHTML = docLinkHtml;\n",
              "        element.appendChild(docLink);\n",
              "      }\n",
              "    </script>\n",
              "  </div>\n",
              "\n",
              "\n",
              "    <div id=\"df-28fb350b-5cb6-4c39-bdf4-f3cd75df000a\">\n",
              "      <button class=\"colab-df-quickchart\" onclick=\"quickchart('df-28fb350b-5cb6-4c39-bdf4-f3cd75df000a')\"\n",
              "                title=\"Suggest charts\"\n",
              "                style=\"display:none;\">\n",
              "\n",
              "<svg xmlns=\"http://www.w3.org/2000/svg\" height=\"24px\"viewBox=\"0 0 24 24\"\n",
              "     width=\"24px\">\n",
              "    <g>\n",
              "        <path d=\"M19 3H5c-1.1 0-2 .9-2 2v14c0 1.1.9 2 2 2h14c1.1 0 2-.9 2-2V5c0-1.1-.9-2-2-2zM9 17H7v-7h2v7zm4 0h-2V7h2v10zm4 0h-2v-4h2v4z\"/>\n",
              "    </g>\n",
              "</svg>\n",
              "      </button>\n",
              "\n",
              "<style>\n",
              "  .colab-df-quickchart {\n",
              "      --bg-color: #E8F0FE;\n",
              "      --fill-color: #1967D2;\n",
              "      --hover-bg-color: #E2EBFA;\n",
              "      --hover-fill-color: #174EA6;\n",
              "      --disabled-fill-color: #AAA;\n",
              "      --disabled-bg-color: #DDD;\n",
              "  }\n",
              "\n",
              "  [theme=dark] .colab-df-quickchart {\n",
              "      --bg-color: #3B4455;\n",
              "      --fill-color: #D2E3FC;\n",
              "      --hover-bg-color: #434B5C;\n",
              "      --hover-fill-color: #FFFFFF;\n",
              "      --disabled-bg-color: #3B4455;\n",
              "      --disabled-fill-color: #666;\n",
              "  }\n",
              "\n",
              "  .colab-df-quickchart {\n",
              "    background-color: var(--bg-color);\n",
              "    border: none;\n",
              "    border-radius: 50%;\n",
              "    cursor: pointer;\n",
              "    display: none;\n",
              "    fill: var(--fill-color);\n",
              "    height: 32px;\n",
              "    padding: 0;\n",
              "    width: 32px;\n",
              "  }\n",
              "\n",
              "  .colab-df-quickchart:hover {\n",
              "    background-color: var(--hover-bg-color);\n",
              "    box-shadow: 0 1px 2px rgba(60, 64, 67, 0.3), 0 1px 3px 1px rgba(60, 64, 67, 0.15);\n",
              "    fill: var(--button-hover-fill-color);\n",
              "  }\n",
              "\n",
              "  .colab-df-quickchart-complete:disabled,\n",
              "  .colab-df-quickchart-complete:disabled:hover {\n",
              "    background-color: var(--disabled-bg-color);\n",
              "    fill: var(--disabled-fill-color);\n",
              "    box-shadow: none;\n",
              "  }\n",
              "\n",
              "  .colab-df-spinner {\n",
              "    border: 2px solid var(--fill-color);\n",
              "    border-color: transparent;\n",
              "    border-bottom-color: var(--fill-color);\n",
              "    animation:\n",
              "      spin 1s steps(1) infinite;\n",
              "  }\n",
              "\n",
              "  @keyframes spin {\n",
              "    0% {\n",
              "      border-color: transparent;\n",
              "      border-bottom-color: var(--fill-color);\n",
              "      border-left-color: var(--fill-color);\n",
              "    }\n",
              "    20% {\n",
              "      border-color: transparent;\n",
              "      border-left-color: var(--fill-color);\n",
              "      border-top-color: var(--fill-color);\n",
              "    }\n",
              "    30% {\n",
              "      border-color: transparent;\n",
              "      border-left-color: var(--fill-color);\n",
              "      border-top-color: var(--fill-color);\n",
              "      border-right-color: var(--fill-color);\n",
              "    }\n",
              "    40% {\n",
              "      border-color: transparent;\n",
              "      border-right-color: var(--fill-color);\n",
              "      border-top-color: var(--fill-color);\n",
              "    }\n",
              "    60% {\n",
              "      border-color: transparent;\n",
              "      border-right-color: var(--fill-color);\n",
              "    }\n",
              "    80% {\n",
              "      border-color: transparent;\n",
              "      border-right-color: var(--fill-color);\n",
              "      border-bottom-color: var(--fill-color);\n",
              "    }\n",
              "    90% {\n",
              "      border-color: transparent;\n",
              "      border-bottom-color: var(--fill-color);\n",
              "    }\n",
              "  }\n",
              "</style>\n",
              "\n",
              "      <script>\n",
              "        async function quickchart(key) {\n",
              "          const quickchartButtonEl =\n",
              "            document.querySelector('#' + key + ' button');\n",
              "          quickchartButtonEl.disabled = true;  // To prevent multiple clicks.\n",
              "          quickchartButtonEl.classList.add('colab-df-spinner');\n",
              "          try {\n",
              "            const charts = await google.colab.kernel.invokeFunction(\n",
              "                'suggestCharts', [key], {});\n",
              "          } catch (error) {\n",
              "            console.error('Error during call to suggestCharts:', error);\n",
              "          }\n",
              "          quickchartButtonEl.classList.remove('colab-df-spinner');\n",
              "          quickchartButtonEl.classList.add('colab-df-quickchart-complete');\n",
              "        }\n",
              "        (() => {\n",
              "          let quickchartButtonEl =\n",
              "            document.querySelector('#df-28fb350b-5cb6-4c39-bdf4-f3cd75df000a button');\n",
              "          quickchartButtonEl.style.display =\n",
              "            google.colab.kernel.accessAllowed ? 'block' : 'none';\n",
              "        })();\n",
              "      </script>\n",
              "    </div>\n",
              "\n",
              "    </div>\n",
              "  </div>\n"
            ],
            "application/vnd.google.colaboratory.intrinsic+json": {
              "type": "dataframe"
            }
          },
          "metadata": {},
          "execution_count": 9
        }
      ]
    },
    {
      "cell_type": "code",
      "source": [
        "data[\"Survived\"].describe()"
      ],
      "metadata": {
        "colab": {
          "base_uri": "https://localhost:8080/",
          "height": 335
        },
        "id": "RypPIeCpo9Bf",
        "outputId": "fe74dc36-4cb4-4378-a759-e816be478007"
      },
      "execution_count": null,
      "outputs": [
        {
          "output_type": "execute_result",
          "data": {
            "text/plain": [
              "count    891.000000\n",
              "mean       0.383838\n",
              "std        0.486592\n",
              "min        0.000000\n",
              "25%        0.000000\n",
              "50%        0.000000\n",
              "75%        1.000000\n",
              "max        1.000000\n",
              "Name: Survived, dtype: float64"
            ],
            "text/html": [
              "<div>\n",
              "<style scoped>\n",
              "    .dataframe tbody tr th:only-of-type {\n",
              "        vertical-align: middle;\n",
              "    }\n",
              "\n",
              "    .dataframe tbody tr th {\n",
              "        vertical-align: top;\n",
              "    }\n",
              "\n",
              "    .dataframe thead th {\n",
              "        text-align: right;\n",
              "    }\n",
              "</style>\n",
              "<table border=\"1\" class=\"dataframe\">\n",
              "  <thead>\n",
              "    <tr style=\"text-align: right;\">\n",
              "      <th></th>\n",
              "      <th>Survived</th>\n",
              "    </tr>\n",
              "  </thead>\n",
              "  <tbody>\n",
              "    <tr>\n",
              "      <th>count</th>\n",
              "      <td>891.000000</td>\n",
              "    </tr>\n",
              "    <tr>\n",
              "      <th>mean</th>\n",
              "      <td>0.383838</td>\n",
              "    </tr>\n",
              "    <tr>\n",
              "      <th>std</th>\n",
              "      <td>0.486592</td>\n",
              "    </tr>\n",
              "    <tr>\n",
              "      <th>min</th>\n",
              "      <td>0.000000</td>\n",
              "    </tr>\n",
              "    <tr>\n",
              "      <th>25%</th>\n",
              "      <td>0.000000</td>\n",
              "    </tr>\n",
              "    <tr>\n",
              "      <th>50%</th>\n",
              "      <td>0.000000</td>\n",
              "    </tr>\n",
              "    <tr>\n",
              "      <th>75%</th>\n",
              "      <td>1.000000</td>\n",
              "    </tr>\n",
              "    <tr>\n",
              "      <th>max</th>\n",
              "      <td>1.000000</td>\n",
              "    </tr>\n",
              "  </tbody>\n",
              "</table>\n",
              "</div><br><label><b>dtype:</b> float64</label>"
            ]
          },
          "metadata": {},
          "execution_count": 10
        }
      ]
    },
    {
      "cell_type": "code",
      "source": [
        "data[\"Survived\"].describe()"
      ],
      "metadata": {
        "colab": {
          "base_uri": "https://localhost:8080/",
          "height": 335
        },
        "id": "lvSBFqO1FQME",
        "outputId": "a8eef198-f018-4717-9802-91b6cbae8299"
      },
      "execution_count": null,
      "outputs": [
        {
          "output_type": "execute_result",
          "data": {
            "text/plain": [
              "count    891.000000\n",
              "mean       0.383838\n",
              "std        0.486592\n",
              "min        0.000000\n",
              "25%        0.000000\n",
              "50%        0.000000\n",
              "75%        1.000000\n",
              "max        1.000000\n",
              "Name: Survived, dtype: float64"
            ],
            "text/html": [
              "<div>\n",
              "<style scoped>\n",
              "    .dataframe tbody tr th:only-of-type {\n",
              "        vertical-align: middle;\n",
              "    }\n",
              "\n",
              "    .dataframe tbody tr th {\n",
              "        vertical-align: top;\n",
              "    }\n",
              "\n",
              "    .dataframe thead th {\n",
              "        text-align: right;\n",
              "    }\n",
              "</style>\n",
              "<table border=\"1\" class=\"dataframe\">\n",
              "  <thead>\n",
              "    <tr style=\"text-align: right;\">\n",
              "      <th></th>\n",
              "      <th>Survived</th>\n",
              "    </tr>\n",
              "  </thead>\n",
              "  <tbody>\n",
              "    <tr>\n",
              "      <th>count</th>\n",
              "      <td>891.000000</td>\n",
              "    </tr>\n",
              "    <tr>\n",
              "      <th>mean</th>\n",
              "      <td>0.383838</td>\n",
              "    </tr>\n",
              "    <tr>\n",
              "      <th>std</th>\n",
              "      <td>0.486592</td>\n",
              "    </tr>\n",
              "    <tr>\n",
              "      <th>min</th>\n",
              "      <td>0.000000</td>\n",
              "    </tr>\n",
              "    <tr>\n",
              "      <th>25%</th>\n",
              "      <td>0.000000</td>\n",
              "    </tr>\n",
              "    <tr>\n",
              "      <th>50%</th>\n",
              "      <td>0.000000</td>\n",
              "    </tr>\n",
              "    <tr>\n",
              "      <th>75%</th>\n",
              "      <td>1.000000</td>\n",
              "    </tr>\n",
              "    <tr>\n",
              "      <th>max</th>\n",
              "      <td>1.000000</td>\n",
              "    </tr>\n",
              "  </tbody>\n",
              "</table>\n",
              "</div><br><label><b>dtype:</b> float64</label>"
            ]
          },
          "metadata": {},
          "execution_count": 11
        }
      ]
    },
    {
      "cell_type": "code",
      "source": [
        "data_Survived_Sex = data.groupby(\"Sex\")[\"Survived\"].mean()\n",
        "data_Survived_Sex"
      ],
      "metadata": {
        "colab": {
          "base_uri": "https://localhost:8080/",
          "height": 178
        },
        "id": "Uo1IU4P1RWnF",
        "outputId": "ddb01c97-4be0-47fb-941c-e86fcf5265a5"
      },
      "execution_count": null,
      "outputs": [
        {
          "output_type": "execute_result",
          "data": {
            "text/plain": [
              "Sex\n",
              "0    0.742038\n",
              "1    0.188908\n",
              "Name: Survived, dtype: float64"
            ],
            "text/html": [
              "<div>\n",
              "<style scoped>\n",
              "    .dataframe tbody tr th:only-of-type {\n",
              "        vertical-align: middle;\n",
              "    }\n",
              "\n",
              "    .dataframe tbody tr th {\n",
              "        vertical-align: top;\n",
              "    }\n",
              "\n",
              "    .dataframe thead th {\n",
              "        text-align: right;\n",
              "    }\n",
              "</style>\n",
              "<table border=\"1\" class=\"dataframe\">\n",
              "  <thead>\n",
              "    <tr style=\"text-align: right;\">\n",
              "      <th></th>\n",
              "      <th>Survived</th>\n",
              "    </tr>\n",
              "    <tr>\n",
              "      <th>Sex</th>\n",
              "      <th></th>\n",
              "    </tr>\n",
              "  </thead>\n",
              "  <tbody>\n",
              "    <tr>\n",
              "      <th>0</th>\n",
              "      <td>0.742038</td>\n",
              "    </tr>\n",
              "    <tr>\n",
              "      <th>1</th>\n",
              "      <td>0.188908</td>\n",
              "    </tr>\n",
              "  </tbody>\n",
              "</table>\n",
              "</div><br><label><b>dtype:</b> float64</label>"
            ]
          },
          "metadata": {},
          "execution_count": 12
        }
      ]
    },
    {
      "cell_type": "code",
      "source": [
        "sex_counts = data[\"Sex\"].value_counts()\n",
        "sex_counts"
      ],
      "metadata": {
        "colab": {
          "base_uri": "https://localhost:8080/",
          "height": 178
        },
        "id": "g-URThz6GZF8",
        "outputId": "633ed645-1a89-4a67-a397-6ea44d5c7192"
      },
      "execution_count": null,
      "outputs": [
        {
          "output_type": "execute_result",
          "data": {
            "text/plain": [
              "Sex\n",
              "1    577\n",
              "0    314\n",
              "Name: count, dtype: int64"
            ],
            "text/html": [
              "<div>\n",
              "<style scoped>\n",
              "    .dataframe tbody tr th:only-of-type {\n",
              "        vertical-align: middle;\n",
              "    }\n",
              "\n",
              "    .dataframe tbody tr th {\n",
              "        vertical-align: top;\n",
              "    }\n",
              "\n",
              "    .dataframe thead th {\n",
              "        text-align: right;\n",
              "    }\n",
              "</style>\n",
              "<table border=\"1\" class=\"dataframe\">\n",
              "  <thead>\n",
              "    <tr style=\"text-align: right;\">\n",
              "      <th></th>\n",
              "      <th>count</th>\n",
              "    </tr>\n",
              "    <tr>\n",
              "      <th>Sex</th>\n",
              "      <th></th>\n",
              "    </tr>\n",
              "  </thead>\n",
              "  <tbody>\n",
              "    <tr>\n",
              "      <th>1</th>\n",
              "      <td>577</td>\n",
              "    </tr>\n",
              "    <tr>\n",
              "      <th>0</th>\n",
              "      <td>314</td>\n",
              "    </tr>\n",
              "  </tbody>\n",
              "</table>\n",
              "</div><br><label><b>dtype:</b> int64</label>"
            ]
          },
          "metadata": {},
          "execution_count": 13
        }
      ]
    },
    {
      "cell_type": "markdown",
      "source": [
        "# Data Visualization"
      ],
      "metadata": {
        "id": "1_lVVnTxMGdk"
      }
    },
    {
      "cell_type": "code",
      "source": [
        "#Survive Rate by Sex\n",
        "\n",
        "plt.figure(figsize=(6,4))\n",
        "data.groupby(\"Sex\")[\"Survived\"].mean().plot(kind=\"bar\", color=[\"#801650\",\"#12436D\"])\n",
        "plt.title(\"Survived Rate by Sex\")\n",
        "\n",
        "\n",
        "plt.ylim(0,1)\n",
        "plt.grid(axis=\"y\", linestyle=\"--\", alpha=0.7)\n",
        "plt.xticks([0,1], [\"Women\", \"Men\"], rotation=0)\n",
        "\n",
        "for i, v in enumerate(data_Survived_Sex):\n",
        "    plt.text(i, v + 0.01, f\"{v:.2f}\", ha=\"center\", fontsize=10, fontweight=\"bold\")\n",
        "\n",
        "for spine in [\"top\",\"right\",\"left\"]:\n",
        "    plt.gca().spines[spine].set_visible(False)\n",
        "\n",
        "plt.show()"
      ],
      "metadata": {
        "colab": {
          "base_uri": "https://localhost:8080/",
          "height": 410
        },
        "id": "FoogFeIYJvUX",
        "outputId": "dcc7b0ab-5613-4b79-8762-6ef18ea13f73"
      },
      "execution_count": null,
      "outputs": [
        {
          "output_type": "display_data",
          "data": {
            "text/plain": [
              "<Figure size 600x400 with 1 Axes>"
            ],
            "image/png": "[encoded data removed]"
          },
          "metadata": {}
        }
      ]
    },
    {
      "cell_type": "code",
      "source": [
        "#Number of Total Passengers by Sex\n",
        "\n",
        "plt.figure(figsize=(6,4))\n",
        "data[\"Sex\"].value_counts().plot(kind=\"bar\", color=[\"#12436D\",\"#801650\"])\n",
        "plt.title(\"Number of Passengers by Sex\")\n",
        "\n",
        "\n",
        "plt.ylim(0,700)\n",
        "plt.grid(axis=\"y\", linestyle=\"--\", alpha=0.7)\n",
        "plt.xticks([0,1], [\"Men\", \"Women\"], rotation=0)\n",
        "\n",
        "for i, v in enumerate(sex_counts):\n",
        "    plt.text(i, v + 10 , v , ha=\"center\", fontsize=10, fontweight=\"bold\")\n",
        "\n",
        "for spine in [\"top\",\"right\",\"left\"]:\n",
        "    plt.gca().spines[spine].set_visible(False)\n",
        "\n",
        "plt.show()"
      ],
      "metadata": {
        "colab": {
          "base_uri": "https://localhost:8080/",
          "height": 410
        },
        "id": "FcQTGXXcOE7f",
        "outputId": "731c681e-f4e6-4204-ae56-6cb0a10fc152"
      },
      "execution_count": null,
      "outputs": [
        {
          "output_type": "display_data",
          "data": {
            "text/plain": [
              "<Figure size 600x400 with 1 Axes>"
            ],
            "image/png": "[encoded data removed]"
          },
          "metadata": {}
        }
      ]
    },
    {
      "cell_type": "code",
      "source": [
        "fare_sex= data.groupby(\"Sex\")[\"Fare\"].mean()\n",
        "fare_sex"
      ],
      "metadata": {
        "colab": {
          "base_uri": "https://localhost:8080/",
          "height": 178
        },
        "id": "sfoTT8cAXIU5",
        "outputId": "720c63a9-2469-4f7b-9d8d-da6d2cf62cf9"
      },
      "execution_count": null,
      "outputs": [
        {
          "output_type": "execute_result",
          "data": {
            "text/plain": [
              "Sex\n",
              "0    44.479818\n",
              "1    25.523893\n",
              "Name: Fare, dtype: float64"
            ],
            "text/html": [
              "<div>\n",
              "<style scoped>\n",
              "    .dataframe tbody tr th:only-of-type {\n",
              "        vertical-align: middle;\n",
              "    }\n",
              "\n",
              "    .dataframe tbody tr th {\n",
              "        vertical-align: top;\n",
              "    }\n",
              "\n",
              "    .dataframe thead th {\n",
              "        text-align: right;\n",
              "    }\n",
              "</style>\n",
              "<table border=\"1\" class=\"dataframe\">\n",
              "  <thead>\n",
              "    <tr style=\"text-align: right;\">\n",
              "      <th></th>\n",
              "      <th>Fare</th>\n",
              "    </tr>\n",
              "    <tr>\n",
              "      <th>Sex</th>\n",
              "      <th></th>\n",
              "    </tr>\n",
              "  </thead>\n",
              "  <tbody>\n",
              "    <tr>\n",
              "      <th>0</th>\n",
              "      <td>44.479818</td>\n",
              "    </tr>\n",
              "    <tr>\n",
              "      <th>1</th>\n",
              "      <td>25.523893</td>\n",
              "    </tr>\n",
              "  </tbody>\n",
              "</table>\n",
              "</div><br><label><b>dtype:</b> float64</label>"
            ]
          },
          "metadata": {},
          "execution_count": 16
        }
      ]
    },
    {
      "cell_type": "code",
      "source": [
        "plt.figure(figsize=(6,4))\n",
        "data.groupby(\"Sex\")[\"Fare\"].mean().plot(kind=\"bar\", color=[\"#801650\",\"#12436D\"])\n",
        "plt.title(\"Average Price of Tickets by Sex\")\n",
        "\n",
        "\n",
        "plt.ylim(0,50)\n",
        "plt.grid(axis=\"y\", linestyle=\"--\", alpha=0.7)\n",
        "plt.xticks([0,1], [\"Women\", \"Men\"], rotation=0)\n",
        "\n",
        "for i, v in enumerate(fare_sex):\n",
        "    plt.text(i, v + 1 , f\"{v:.2f}\" , ha=\"center\", fontsize=10, fontweight=\"bold\")\n",
        "\n",
        "for spine in [\"top\",\"right\",\"left\"]:\n",
        "    plt.gca().spines[spine].set_visible(False)\n",
        "\n",
        "plt.show()"
      ],
      "metadata": {
        "colab": {
          "base_uri": "https://localhost:8080/",
          "height": 410
        },
        "id": "WbTxCqm5XAdC",
        "outputId": "3688d7bf-4f1e-4062-9f03-82f3c0819e58"
      },
      "execution_count": null,
      "outputs": [
        {
          "output_type": "display_data",
          "data": {
            "text/plain": [
              "<Figure size 600x400 with 1 Axes>"
            ],
            "image/png": "[encoded data removed]"
          },
          "metadata": {}
        }
      ]
    },
    {
      "cell_type": "code",
      "source": [
        "survival_by_family = data.groupby('FamilySize')['Survived'].mean()\n",
        "survival_by_family"
      ],
      "metadata": {
        "colab": {
          "base_uri": "https://localhost:8080/",
          "height": 397
        },
        "id": "8B9YCHtANcpr",
        "outputId": "ae32411a-6e30-4b84-d27a-cbf1c45bc221"
      },
      "execution_count": null,
      "outputs": [
        {
          "output_type": "execute_result",
          "data": {
            "text/plain": [
              "FamilySize\n",
              "1     0.303538\n",
              "2     0.552795\n",
              "3     0.578431\n",
              "4     0.724138\n",
              "5     0.200000\n",
              "6     0.136364\n",
              "7     0.333333\n",
              "8     0.000000\n",
              "11    0.000000\n",
              "Name: Survived, dtype: float64"
            ],
            "text/html": [
              "<div>\n",
              "<style scoped>\n",
              "    .dataframe tbody tr th:only-of-type {\n",
              "        vertical-align: middle;\n",
              "    }\n",
              "\n",
              "    .dataframe tbody tr th {\n",
              "        vertical-align: top;\n",
              "    }\n",
              "\n",
              "    .dataframe thead th {\n",
              "        text-align: right;\n",
              "    }\n",
              "</style>\n",
              "<table border=\"1\" class=\"dataframe\">\n",
              "  <thead>\n",
              "    <tr style=\"text-align: right;\">\n",
              "      <th></th>\n",
              "      <th>Survived</th>\n",
              "    </tr>\n",
              "    <tr>\n",
              "      <th>FamilySize</th>\n",
              "      <th></th>\n",
              "    </tr>\n",
              "  </thead>\n",
              "  <tbody>\n",
              "    <tr>\n",
              "      <th>1</th>\n",
              "      <td>0.303538</td>\n",
              "    </tr>\n",
              "    <tr>\n",
              "      <th>2</th>\n",
              "      <td>0.552795</td>\n",
              "    </tr>\n",
              "    <tr>\n",
              "      <th>3</th>\n",
              "      <td>0.578431</td>\n",
              "    </tr>\n",
              "    <tr>\n",
              "      <th>4</th>\n",
              "      <td>0.724138</td>\n",
              "    </tr>\n",
              "    <tr>\n",
              "      <th>5</th>\n",
              "      <td>0.200000</td>\n",
              "    </tr>\n",
              "    <tr>\n",
              "      <th>6</th>\n",
              "      <td>0.136364</td>\n",
              "    </tr>\n",
              "    <tr>\n",
              "      <th>7</th>\n",
              "      <td>0.333333</td>\n",
              "    </tr>\n",
              "    <tr>\n",
              "      <th>8</th>\n",
              "      <td>0.000000</td>\n",
              "    </tr>\n",
              "    <tr>\n",
              "      <th>11</th>\n",
              "      <td>0.000000</td>\n",
              "    </tr>\n",
              "  </tbody>\n",
              "</table>\n",
              "</div><br><label><b>dtype:</b> float64</label>"
            ]
          },
          "metadata": {},
          "execution_count": 25
        }
      ]
    },
    {
      "cell_type": "code",
      "source": [
        "\n",
        "plt.figure(figsize=(6,4))\n",
        "plt.bar(survival_by_family.index, survival_by_family.values, color=\"teal\", alpha=0.8, edgecolor=\"black\")\n",
        "\n",
        "plt.title(\"Survival Rate by Family Size\")\n",
        "plt.xlabel(\"Family Size\")\n",
        "\n",
        "plt.xticks(survival_by_family.index)\n",
        "plt.ylim(0,1)\n",
        "plt.grid(alpha=0.3)\n",
        "\n",
        "for i, v in enumerate(survival_by_family.values):\n",
        "    plt.text(survival_by_family.index[i], v + 0.02, f\"{v:.2f}\", ha='center', fontsize=9)\n",
        "\n",
        "\n",
        "for spine in [\"top\",\"right\",\"left\"]:\n",
        "    plt.gca().spines[spine].set_visible(False)\n",
        "\n",
        "plt.show()\n"
      ],
      "metadata": {
        "id": "SEPk9ccCW949",
        "colab": {
          "base_uri": "https://localhost:8080/",
          "height": 410
        },
        "outputId": "cfb6eab1-1dfc-4226-d0a1-a1d50ed039b1"
      },
      "execution_count": null,
      "outputs": [
        {
          "output_type": "display_data",
          "data": {
            "text/plain": [
              "<Figure size 600x400 with 1 Axes>"
            ],
            "image/png": "[encoded data removed]"
          },
          "metadata": {}
        }
      ]
    },
    {
      "cell_type": "code",
      "source": [
        "import matplotlib.pyplot as plt\n",
        "\n",
        "plt.figure(figsize=(6,4))\n",
        "plt.hist(data['Fare'], bins=40, color=\"teal\", edgecolor=\"black\", alpha=0.8)\n",
        "\n",
        "plt.title(\"Distribution of Passenger Fares\")\n",
        "plt.xlabel(\"Fare (£)\")\n",
        "plt.ylabel(\"Number of Passengers\")\n",
        "plt.ylim(0,400)\n",
        "plt.grid(alpha=0.3)\n",
        "\n",
        "for spine in [\"top\",\"right\",\"left\"]:\n",
        "    plt.gca().spines[spine].set_visible(False)\n",
        "\n",
        "plt.show()"
      ],
      "metadata": {
        "colab": {
          "base_uri": "https://localhost:8080/",
          "height": 410
        },
        "id": "eC5QBI3SWQqY",
        "outputId": "ff7040b2-9c93-4841-d831-872f2eb32f64"
      },
      "execution_count": null,
      "outputs": [
        {
          "output_type": "display_data",
          "data": {
            "text/plain": [
              "<Figure size 600x400 with 1 Axes>"
            ],
            "image/png": "[encoded data removed]"
          },
          "metadata": {}
        }
      ]
    },
    {
      "cell_type": "code",
      "source": [
        "import matplotlib.pyplot as plt\n",
        "import numpy as np\n",
        "\n",
        "# Create bins for fares\n",
        "bins = np.linspace(0, data['Fare'].max(), 15)\n",
        "\n",
        "# Histogram for all passengers\n",
        "plt.figure(figsize=(7, 4))\n",
        "plt.hist(data['Fare'], bins=bins, color=\"teal\", edgecolor=\"black\", alpha=0.6, label=\"Passengers\")\n",
        "\n",
        "# Calculate survival rate for each bin\n",
        "fare_bins = pd.cut(data['Fare'], bins=bins)\n",
        "survival_rate = data.groupby(fare_bins)['Survived'].mean()\n",
        "\n",
        "# Add survival rate line\n",
        "plt.twinx()  # create a secondary y-axis\n",
        "plt.plot(\n",
        "    bins[:-1], survival_rate, color=\"green\", marker=\"o\", linewidth=2, label=\"Survival Rate\"\n",
        ")\n",
        "plt.ylabel(\"Survival Rate\", color=\"green\")\n",
        "\n",
        "# Style and labels\n",
        "plt.title(\"Distribution of Passenger Fares and Survival Rate\")\n",
        "plt.xlabel(\"Fare (£)\")\n",
        "plt.grid(alpha=0.3)\n",
        "plt.legend(loc=\"lower right\")\n",
        "\n",
        "\n",
        "plt.show()\n"
      ],
      "metadata": {
        "colab": {
          "base_uri": "https://localhost:8080/",
          "height": 447
        },
        "id": "z2MnJJzy4F2c",
        "outputId": "0dbe6fee-cfea-48e3-ad56-c66ad7bf9ff9"
      },
      "execution_count": null,
      "outputs": [
        {
          "output_type": "stream",
          "name": "stderr",
          "text": [
            "/tmp/ipython-input-253677138.py:13: FutureWarning: The default of observed=False is deprecated and will be changed to True in a future version of pandas. Pass observed=False to retain current behavior or observed=True to adopt the future default and silence this warning.\n",
            "  survival_rate = data.groupby(fare_bins)['Survived'].mean()\n"
          ]
        },
        {
          "output_type": "display_data",
          "data": {
            "text/plain": [
              "<Figure size 700x400 with 2 Axes>"
            ],
            "image/png": "[encoded data removed]"
          },
          "metadata": {}
        }
      ]
    },
    {
      "cell_type": "code",
      "source": [
        "corr = data.corr()\n",
        "\n",
        "\n",
        "# Top 10 features most correlated with 'Survived'\n",
        "top_features = corr['Survived'].abs().sort_values(ascending=False).head(11).index  # includes 'Survived'\n",
        "\n",
        "\n",
        "plt.figure(figsize=(12, 1))\n",
        "sns.heatmap(data[top_features].corr().head(1), annot=True, fmt=\".2f\", cmap=\"Greens\", cbar=True, linecolor=\"white\",linewidths=1)\n",
        "\n",
        "plt.title(\"Top 10 Correlations with Survival\")\n",
        "plt.show()"
      ],
      "metadata": {
        "colab": {
          "base_uri": "https://localhost:8080/",
          "height": 229
        },
        "id": "CgJd-Adhd8P5",
        "outputId": "0b8568c3-3e44-45d1-cab7-839795d29d0a"
      },
      "execution_count": null,
      "outputs": [
        {
          "output_type": "display_data",
          "data": {
            "text/plain": [
              "<Figure size 1200x100 with 2 Axes>"
            ],
            "image/png": "[encoded data removed]"
          },
          "metadata": {}
        }
      ]
    },
    {
      "cell_type": "markdown",
      "source": [
        "# Data Modeling"
      ],
      "metadata": {
        "id": "I7amZTG5QoUl"
      }
    },
    {
      "cell_type": "markdown",
      "source": [
        "## Simple Logistic Regression"
      ],
      "metadata": {
        "id": "9uz58AxfQ8S1"
      }
    },
    {
      "cell_type": "code",
      "source": [
        "import numpy as np\n",
        "import pandas as pd\n",
        "import matplotlib.pyplot as plt"
      ],
      "metadata": {
        "id": "4m8m98ckM0u6"
      },
      "execution_count": null,
      "outputs": []
    },
    {
      "cell_type": "markdown",
      "source": [
        "### Useful Functions"
      ],
      "metadata": {
        "id": "606-49I0Rc1W"
      }
    },
    {
      "cell_type": "code",
      "source": [
        "def sigmoid(h):\n",
        "  return 1/(1+np.exp(-h))\n",
        "\n",
        "def cross_entropy(y, p_hat):\n",
        "  return (-1/len(y))*(np.sum(y*np.log(p_hat))+(1-y)*np.log(1-p_hat))\n",
        "\n",
        "def accuracy(y,y_hat):\n",
        "  return np.mean(y== y_hat)"
      ],
      "metadata": {
        "id": "tzxHsZqzRHVA"
      },
      "execution_count": null,
      "outputs": []
    },
    {
      "cell_type": "code",
      "source": [
        "# Simple Logistic Regression Class\n",
        "\n",
        "class SimpleLogisticRegression():\n",
        "\n",
        "  def __init__(self, thresh=0.5):\n",
        "    self.thresh = thresh\n",
        "    self.W = None\n",
        "    self.b = None\n",
        "\n",
        "  def fit(self, X, y, eta=1e-3, epochs=1e3, show_curve=True):\n",
        "    epochs=int(epochs)\n",
        "    N,D = X.shape\n",
        "\n",
        "    #Random Initialization of weights and biases\n",
        "    self.W = np.random.randn(D)\n",
        "    self.b = np.random.randn(1)\n",
        "\n",
        "    #Container for loss\n",
        "    J = np.zeros(epochs)\n",
        "\n",
        "    #Gradient descent updates\n",
        "    for epoch in range(epochs):\n",
        "      p_hat = self.__forward__(X)\n",
        "      J[epoch]= cross_entropy(y,p_hat)\n",
        "      #weights and biases update rules\n",
        "      self.W -= eta*(1/N)*X.T @(p_hat-y)\n",
        "      self.b -= eta*(1/N)*np.sum(p_hat-y)\n",
        "\n",
        "    if show_curve:\n",
        "      plt.figure()\n",
        "      plt.plot(J)\n",
        "      plt.xlabel(\"epochs\")\n",
        "      plt.ylabel(\"$\\\\mathcal{J}$\")\n",
        "      plt.title(\"Training Curve\")\n",
        "\n",
        "  def __forward__(self, X):\n",
        "    return sigmoid(X@self.W +self.b)\n",
        "\n",
        "\n",
        "  def predict(self, X):\n",
        "    return(self.__forward__(X)>= self.thresh).astype(np.int32)"
      ],
      "metadata": {
        "id": "y9gcaprzRHNr"
      },
      "execution_count": null,
      "outputs": []
    },
    {
      "cell_type": "code",
      "source": [
        "def cross_entropy(y, p_hat):\n",
        "    y = y.ravel().astype(float)\n",
        "    p = np.clip(p_hat.ravel(), 1e-12, 1 - 1e-12)  # avoid log(0)\n",
        "    return -np.mean(y * np.log(p) + (1 - y) * np.log(1 - p))\n"
      ],
      "metadata": {
        "id": "WbGmfHnh5auf"
      },
      "execution_count": null,
      "outputs": []
    },
    {
      "cell_type": "markdown",
      "source": [
        "### Train,Test Split"
      ],
      "metadata": {
        "id": "D4wiTK3hNuv5"
      }
    },
    {
      "cell_type": "code",
      "source": [
        "def stratified_train_test_split(X, y, test_size=0.2, random_state=42):\n",
        "    rng = np.random.default_rng(random_state)\n",
        "    X0_idx = np.where(y == 0)[0]\n",
        "    X1_idx = np.where(y == 1)[0]\n",
        "    rng.shuffle(X0_idx); rng.shuffle(X1_idx)\n",
        "\n",
        "    n0_test = int(len(X0_idx) * test_size)\n",
        "    n1_test = int(len(X1_idx) * test_size)\n",
        "\n",
        "    test_idx  = np.concatenate([X0_idx[:n0_test], X1_idx[:n1_test]])\n",
        "    train_idx = np.concatenate([X0_idx[n0_test:], X1_idx[n1_test:]])\n",
        "    rng.shuffle(train_idx); rng.shuffle(test_idx)\n",
        "\n",
        "    return X[train_idx], X[test_idx], y[train_idx], y[test_idx]\n",
        "\n",
        "def standardize_fit(X):\n",
        "    mean = X.mean(axis=0)\n",
        "    std  = X.std(axis=0, ddof=0)\n",
        "    std[std == 0] = 1.0\n",
        "    return mean, std\n",
        "\n",
        "def standardize_transform(X, mean, std):\n",
        "    return (X - mean) / std"
      ],
      "metadata": {
        "id": "-mm6uWGVNQo1"
      },
      "execution_count": null,
      "outputs": []
    },
    {
      "cell_type": "code",
      "source": [
        "def main():\n",
        "    #Load data\n",
        "    df = pd.read_csv(\"TitanicPreprocessed.csv\")\n",
        "\n",
        "    X = df.drop(columns=['Survived']).to_numpy()\n",
        "    y = df['Survived'].astype(int).to_numpy()\n",
        "\n",
        "    X_train, X_test, y_train, y_test = stratified_train_test_split(X, y, test_size=0.2, random_state=42)\n",
        "\n",
        "    mean, std = standardize_fit(X_train)\n",
        "    X_train = standardize_transform(X_train, mean, std)\n",
        "    X_test  = standardize_transform(X_test,  mean, std)\n",
        "\n",
        "    log_reg = SimpleLogisticRegression(thresh=0.5)\n",
        "    log_reg.fit(X_train, y_train, eta=4e-1, epochs=1000, show_curve=True)\n",
        "\n",
        "    y_hat_train = log_reg.predict(X_train)\n",
        "    y_hat_test  = log_reg.predict(X_test)\n",
        "    print(f\"Train Accuracy: {accuracy(y_train, y_hat_train):.4f}\")\n",
        "    print(f\"Test  Accuracy: {accuracy(y_test,  y_hat_test):.4f}\")\n",
        "\n",
        "    #Top weights\n",
        "    feature_cols = [c for c in df.columns if c != 'Survived']\n",
        "    w_series = pd.Series(log_reg.W, index=feature_cols).abs().sort_values(ascending=False)\n",
        "    print(\"\\nTop 10 |weights|:\")\n",
        "    print(w_series.head(10))"
      ],
      "metadata": {
        "id": "m3ywAKJeNy4u"
      },
      "execution_count": null,
      "outputs": []
    },
    {
      "cell_type": "code",
      "source": [
        "if __name__ == \"__main__\":\n",
        "    main()"
      ],
      "metadata": {
        "colab": {
          "base_uri": "https://localhost:8080/",
          "height": 746
        },
        "id": "TrY-5SoZ4_Wl",
        "outputId": "58abf1c2-94bd-468c-f365-3226b7c58558"
      },
      "execution_count": null,
      "outputs": [
        {
          "output_type": "stream",
          "name": "stdout",
          "text": [
            "Train Accuracy: 0.8389\n",
            "Test  Accuracy: 0.8136\n",
            "\n",
            "Top 10 |weights|:\n",
            "Ticket_SCOW       2.252708\n",
            "Ticket_SCA4       2.069701\n",
            "Ticket_AQ3        1.762092\n",
            "Ticket_WEP        1.623371\n",
            "Title_Mr          1.359778\n",
            "Cabin_T           1.317128\n",
            "Ticket_SOTONO2    1.255479\n",
            "Ticket_STONOQ     1.211150\n",
            "LargeFamily       1.138838\n",
            "Embarked_S        1.098205\n",
            "dtype: float64\n"
          ]
        },
        {
          "output_type": "display_data",
          "data": {
            "text/plain": [
              "<Figure size 640x480 with 1 Axes>"
            ],
            "image/png": "[encoded data removed]"
          },
          "metadata": {}
        }
      ]
    },
    {
      "cell_type": "markdown",
      "source": [
        "## Two Layer Perceptron (Feed-Forward Neural Network)"
      ],
      "metadata": {
        "id": "37d8faZKhd2v"
      }
    },
    {
      "cell_type": "code",
      "source": [
        "import numpy as np\n",
        "import pandas as pd\n",
        "import matplotlib.pyplot as plt"
      ],
      "metadata": {
        "id": "GN9NhthfhjbT"
      },
      "execution_count": null,
      "outputs": []
    },
    {
      "cell_type": "markdown",
      "source": [
        "### Activation Functions"
      ],
      "metadata": {
        "id": "JRT4cLjdhpBl"
      }
    },
    {
      "cell_type": "code",
      "source": [
        "def linear(H):\n",
        "  return H\n",
        "\n",
        "def sigmoid(H):\n",
        "  return 1/(1+np.exp(-H))\n",
        "\n",
        "def RelU(H):\n",
        "  return H*(H>0)\n",
        "\n",
        "def softmax(H):\n",
        "  eH = np.exp(H)\n",
        "  return eH/eH.sum(axis=1, keepdims=True)"
      ],
      "metadata": {
        "id": "rzDQgd6Phrjh"
      },
      "execution_count": null,
      "outputs": []
    },
    {
      "cell_type": "markdown",
      "source": [
        "### Useful function"
      ],
      "metadata": {
        "id": "Mdb-7m5bhy8G"
      }
    },
    {
      "cell_type": "code",
      "source": [
        "def one_hot_encode(y):\n",
        "  N = len(y)\n",
        "  K = len(set(y))\n",
        "  Y = np.zeros((N,K))\n",
        "  for i in range(N):\n",
        "    Y[i,y[i]]=1\n",
        "  return Y\n",
        "\n",
        "def cross_entropy(Y, P_hat):\n",
        "  return -np.sum(Y*np.log(P_hat))\n",
        "\n",
        "def accuracy(y, y_hat):\n",
        "  return np.mean(y==y_hat)"
      ],
      "metadata": {
        "id": "pGaVBtINhunX"
      },
      "execution_count": null,
      "outputs": []
    },
    {
      "cell_type": "markdown",
      "source": [
        "### Shallow ANN Class"
      ],
      "metadata": {
        "id": "NdGev8ZBml10"
      }
    },
    {
      "cell_type": "code",
      "source": [
        "class Shallow_ANN():\n",
        "\n",
        "  def fit(self, X, y, neurons=6, eta=1e-3, epochs=1e3, show_curve=True):\n",
        "    epochs=int(epochs)\n",
        "    N,D = X.shape\n",
        "    Y = one_hot_encode(y)\n",
        "    K = Y.shape[1]\n",
        "\n",
        "\n",
        "    #Initialize weights and biases\n",
        "    self.W = {l:np.random.randn(M[0],M[1]) for l,M in enumerate(zip([D,neurons],[neurons,K]),1)}\n",
        "    self.B = {l:np.random.randn(M) for l,M in enumerate([neurons,K],1)}\n",
        "\n",
        "    #Definition Activations\n",
        "    self.a = {1:np.tanh, 2:softmax}\n",
        "\n",
        "    #Loss Container\n",
        "    J= np.zeros(epochs)\n",
        "\n",
        "    #Gradient Descent Progression\n",
        "    for epoch in range(epochs):\n",
        "      self.__forward__(X)\n",
        "      J[epoch]=cross_entropy(Y, self.Z[2])\n",
        "\n",
        "      #Weight update rules for layer 2\n",
        "      self.W[2] -= eta*(1/N)*self.Z[1].T@(self.Z[2]-Y)\n",
        "      self.B[2] -= eta*(1/N)*(self.Z[2]-Y).sum(axis=0)\n",
        "\n",
        "      #Weight Update Rules for Layer 1\n",
        "      self.W[1] -= eta*(1/N)*X.T@((self.Z[2]-Y)@self.W[2].T*(1-self.Z[1]**2))\n",
        "      self.B[1] -= eta*(1/N)*((self.Z[2]-Y)@self.W[2].T*(1-self.Z[1]**2)).sum(axis=0)\n",
        "\n",
        "    if show_curve:\n",
        "      plt.figure()\n",
        "      plt.plot(J)\n",
        "      plt.xlabel(\"epochs\")\n",
        "      plt.ylabel(\"$\\\\mathcal{J}$\")\n",
        "      plt.title(\"Training Curve\")\n",
        "\n",
        "  def __forward__(self,X):\n",
        "    self.Z = {0:X}\n",
        "    for l in sorted(self.W.keys()):\n",
        "      self.Z[l] = self.a[l](self.Z[l-1]@self.W[l]+self.B[l])\n",
        "\n",
        "  def predict(self,X):\n",
        "    self.__forward__(X)\n",
        "    return self.Z[2].argmax(axis=1)\n"
      ],
      "metadata": {
        "id": "954YMMVZh3cc"
      },
      "execution_count": null,
      "outputs": []
    },
    {
      "cell_type": "markdown",
      "source": [
        "### Implementation of Shallow ANN"
      ],
      "metadata": {
        "id": "jtgKnSimmu1R"
      }
    },
    {
      "cell_type": "code",
      "source": [
        "#Test, Train Split\n",
        "\n",
        "def stratified_train_test_split(X, y, test_size=0.2, random_state=42):\n",
        "    rng = np.random.default_rng(random_state)\n",
        "    idx0 = np.where(y == 0)[0]\n",
        "    idx1 = np.where(y == 1)[0]\n",
        "    rng.shuffle(idx0); rng.shuffle(idx1)\n",
        "    n0t = int(len(idx0) * test_size)\n",
        "    n1t = int(len(idx1) * test_size)\n",
        "    test_idx  = np.concatenate([idx0[:n0t], idx1[:n1t]])\n",
        "    train_idx = np.concatenate([idx0[n0t:], idx1[n1t:]])\n",
        "    rng.shuffle(train_idx); rng.shuffle(test_idx)\n",
        "    return X[train_idx], X[test_idx], y[train_idx], y[test_idx]\n",
        "\n",
        "def standardize_fit(X):\n",
        "    mu = X.mean(axis=0)\n",
        "    sd = X.std(axis=0, ddof=0)\n",
        "    sd[sd == 0] = 1.0\n",
        "    return mu, sd\n",
        "\n",
        "def standardize_transform(X, mu, sd):\n",
        "    return (X - mu) / sd\n",
        "\n",
        "\n"
      ],
      "metadata": {
        "id": "Ghf47tjqmxt3"
      },
      "execution_count": null,
      "outputs": []
    },
    {
      "cell_type": "code",
      "source": [
        "def main():\n",
        "    #Load data\n",
        "    df = pd.read_csv(\"TitanicPreprocessed.csv\")\n",
        "\n",
        "\n",
        "    X = df.drop(columns=['Survived']).to_numpy(dtype=float)\n",
        "    y = df['Survived'].to_numpy(dtype=int)\n",
        "\n",
        "    # Stratified split\n",
        "    X_train, X_test, y_train, y_test = stratified_train_test_split(X, y, test_size=0.2, random_state=42)\n",
        "\n",
        "    # Standardize using train stats\n",
        "    mu, sd = standardize_fit(X_train)\n",
        "    X_train = standardize_transform(X_train, mu, sd)\n",
        "    X_test  = standardize_transform(X_test,  mu, sd)\n",
        "\n",
        "    # Train shallow ANN\n",
        "    ann = Shallow_ANN()\n",
        "    ann.fit(X_train, y_train, neurons=8, eta=2.9e-1, epochs=3000, show_curve=True)\n",
        "\n",
        "    # Evaluate model\n",
        "    y_hat_train = ann.predict(X_train)\n",
        "    y_hat_test  = ann.predict(X_test)\n",
        "\n",
        "    print(f\"Train Accuracy: {accuracy(y_train, y_hat_train):.4f}\")\n",
        "    print(f\"Test  Accuracy: {accuracy(y_test,  y_hat_test):.4f}\")\n",
        "\n",
        "    # confusion matrix\n",
        "    def confusion(y_true, y_pred):\n",
        "        tp = np.sum((y_true == 1) & (y_pred == 1))\n",
        "        tn = np.sum((y_true == 0) & (y_pred == 0))\n",
        "        fp = np.sum((y_true == 0) & (y_pred == 1))\n",
        "        fn = np.sum((y_true == 1) & (y_pred == 0))\n",
        "        return np.array([[tn, fp],\n",
        "                         [fn, tp]])\n",
        "\n",
        "    cm = confusion(y_test, y_hat_test)\n",
        "    print(\"\\nConfusion Matrix (rows=true, cols=pred):\\n\", cm)"
      ],
      "metadata": {
        "id": "GaSHon06tFnJ"
      },
      "execution_count": null,
      "outputs": []
    },
    {
      "cell_type": "code",
      "source": [
        "if __name__ == \"__main__\":\n",
        "    main()\n"
      ],
      "metadata": {
        "colab": {
          "base_uri": "https://localhost:8080/",
          "height": 581
        },
        "id": "lEjEsKaBm68F",
        "outputId": "36822124-ae45-43a3-db7c-f3bbdd4b4241"
      },
      "execution_count": null,
      "outputs": [
        {
          "output_type": "stream",
          "name": "stdout",
          "text": [
            "Train Accuracy: 0.8810\n",
            "Test  Accuracy: 0.8249\n",
            "\n",
            "Confusion Matrix (rows=true, cols=pred):\n",
            " [[96 13]\n",
            " [18 50]]\n"
          ]
        },
        {
          "output_type": "display_data",
          "data": {
            "text/plain": [
              "<Figure size 640x480 with 1 Axes>"
            ],
            "image/png": "[encoded data removed]"
          },
          "metadata": {}
        }
      ]
    },
    {
      "cell_type": "markdown",
      "source": [
        "##"
      ],
      "metadata": {
        "id": "jgnH0bSOxTWR"
      }
    },
    {
      "cell_type": "markdown",
      "source": [
        "## Artificial Neural network (ANN) with Variable Architecture and Back Prograssion"
      ],
      "metadata": {
        "id": "531CgdsDIj6U"
      }
    },
    {
      "cell_type": "code",
      "source": [
        "import numpy as np\n",
        "import pandas as pd\n",
        "import matplotlib.pyplot as plt"
      ],
      "metadata": {
        "id": "Y1I_4ic0HhnQ"
      },
      "execution_count": null,
      "outputs": []
    },
    {
      "cell_type": "markdown",
      "source": [
        "### Usefull Functions"
      ],
      "metadata": {
        "id": "YJ2Ut_RFCPwS"
      }
    },
    {
      "cell_type": "code",
      "source": [
        "#Activations\n",
        "def linear(H):\n",
        "  return H\n",
        "\n",
        "def sigmoid(H):\n",
        "  return 1/(1+np.exp(-H))\n",
        "\n",
        "def ReLU(H):\n",
        "  return H*(H>0)\n",
        "\n",
        "def softmax(H):\n",
        "  eH = np.exp(H)\n",
        "  return eH/eH.sum(axis=1, keepdims=True)\n",
        "\n",
        "\n",
        "#Loss functions\n",
        "def cross_entropy(Y, P_hat):\n",
        "  return -(1/len(Y))*np.sum(Y*np.log(P_hat))\n",
        "\n",
        "def OLS(Y, Y_hat):\n",
        "  return (1/(2*len(Y)))*np.sum((Y-Y_hat)**2)\n",
        "\n",
        "#Misc\n",
        "def one_hot_encode(y):\n",
        "  N = len(y)\n",
        "  K = len(set(y))\n",
        "  Y = np.zeros((N,K))\n",
        "  for i in range(N):\n",
        "    Y[i,y[i]]=1\n",
        "  return Y\n",
        "\n",
        "\n",
        "def accuracy(y,y_hat):\n",
        "  return np.mean(y==y_hat)\n",
        "\n",
        "def R2(y,y_hat):\n",
        "  return 1-np.sum((y-y_hat)**2)/np.sum((y-y.mean())**2)"
      ],
      "metadata": {
        "id": "QtLIweyNCM6y"
      },
      "execution_count": null,
      "outputs": []
    },
    {
      "cell_type": "markdown",
      "source": [
        "### Derivatives of Activations"
      ],
      "metadata": {
        "id": "ZKiVxp1GCgh5"
      }
    },
    {
      "cell_type": "code",
      "source": [
        "def derivative(Z,a):\n",
        "  if a == linear:\n",
        "    return 1\n",
        "\n",
        "  elif a == sigmoid:\n",
        "    return Z*(1-Z)\n",
        "\n",
        "  elif a == np.tanh:\n",
        "    return 1-Z**2\n",
        "\n",
        "  elif a == ReLU:\n",
        "    return (Z>0).astype(int)\n",
        "\n",
        "  else:\n",
        "    ValueError(\"Unknown Activation, please add the derivative here\")"
      ],
      "metadata": {
        "id": "4m66BztKCh7w"
      },
      "execution_count": null,
      "outputs": []
    },
    {
      "cell_type": "markdown",
      "source": [
        "### ANN Class"
      ],
      "metadata": {
        "id": "ZT9B89ecCpb8"
      }
    },
    {
      "cell_type": "code",
      "source": [
        "class ANN():\n",
        "  def __init__(self, architecture, activations=None, mode=0):\n",
        "    self.mode = mode\n",
        "    self.architecture = architecture\n",
        "    self.activations = activations\n",
        "    self.L = len(architecture)+1\n",
        "\n",
        "  def fit(self,X,y, eta=1e-3, epochs=1e3, show_curve=True):\n",
        "    epochs = int(epochs)\n",
        "    N,D = X.shape\n",
        "\n",
        "    if self.mode:\n",
        "      #Regression mode\n",
        "      Y=y\n",
        "      K=1\n",
        "      loss_func= OLS\n",
        "      out_act=linear\n",
        "    else:\n",
        "      #Classification mode\n",
        "      Y = one_hot_encode(y)\n",
        "      K = Y.shape[1]\n",
        "      loss_func = cross_entropy\n",
        "      out_act = softmax\n",
        "\n",
        "    #Initialize Weights and Biases\n",
        "    self.W = {l:np.random.randn(M[0],M[1]) for l,M in enumerate(zip(([D]+self.architecture),(self.architecture+[K])),1)}\n",
        "    self.B = {l:np.random.randn(M) for l,M in enumerate(self.architecture+[K],1)}\n",
        "\n",
        "    #Activations\n",
        "    if self.activations is None:\n",
        "      self.a ={l:ReLU for l in range(1,self.L)}\n",
        "    else:\n",
        "      self.a={l: act for l,act in enumerate(self.activations,1)}\n",
        "\n",
        "    self.a[self.L] = out_act\n",
        "\n",
        "\n",
        "    # Loss Container\n",
        "    J=np.zeros(epochs)\n",
        "\n",
        "    #Gradient descent progression\n",
        "    for epoch in range(epochs):\n",
        "      self.__forward__(X)\n",
        "      J[epoch] = loss_func(Y, self.Z[self.L])\n",
        "      dH = (1/N)*(self.Z[self.L]-Y)\n",
        "\n",
        "      for l in sorted(self.W.keys(), reverse=True):\n",
        "        dW = self.Z[l-1].T@dH\n",
        "        dB = dH.sum(axis=0)\n",
        "\n",
        "        self.W[l] -= eta*dW\n",
        "        self.B[l] -= eta*dB\n",
        "\n",
        "        if l>1:\n",
        "          dZ = dH@self.W[l].T\n",
        "          dH = dZ* derivative(self.Z[l-1],self.a[l-1])\n",
        "\n",
        "    if show_curve:\n",
        "      plt.figure()\n",
        "      plt.plot(J)\n",
        "      plt.xlabel(\"epochs\")\n",
        "      plt.ylabel(\"$\\\\mathcal{J}$\")\n",
        "      plt.title(\"Training Curve\")\n",
        "\n",
        "\n",
        "  def __forward__(self,X):\n",
        "    self.Z = {0:X}\n",
        "    for l in sorted(self.W.keys()):\n",
        "      self.Z[l] = self.a[l](self.Z[l-1]@self.W[l]+self.B[l])\n",
        "\n",
        "\n",
        "  def predict(self,X):\n",
        "    self.__forward__(X)\n",
        "    if self.mode:\n",
        "      return self.Z[self.L]\n",
        "    else:\n",
        "      return self.Z[self.L].argmax(axis=1)"
      ],
      "metadata": {
        "id": "4vfhcmYxCnoB"
      },
      "execution_count": null,
      "outputs": []
    },
    {
      "cell_type": "markdown",
      "source": [
        "### Train,Test Split and Confusion Matrix"
      ],
      "metadata": {
        "id": "JAoZanePDZbR"
      }
    },
    {
      "cell_type": "code",
      "source": [
        "def stratified_train_test_split(X, y, test_size=0.2, random_state=42):\n",
        "    rng = np.random.default_rng(random_state)\n",
        "    idx0 = np.where(y == 0)[0]\n",
        "    idx1 = np.where(y == 1)[0]\n",
        "    rng.shuffle(idx0); rng.shuffle(idx1)\n",
        "    n0t = int(len(idx0) * test_size)\n",
        "    n1t = int(len(idx1) * test_size)\n",
        "    test_idx  = np.concatenate([idx0[:n0t], idx1[:n1t]])\n",
        "    train_idx = np.concatenate([idx0[n0t:], idx1[n1t:]])\n",
        "    rng.shuffle(train_idx); rng.shuffle(test_idx)\n",
        "    return X[train_idx], X[test_idx], y[train_idx], y[test_idx]\n",
        "\n",
        "def standardize_fit(X):\n",
        "    mu = X.mean(axis=0)\n",
        "    sd = X.std(axis=0, ddof=0)\n",
        "    sd[sd == 0] = 1.0\n",
        "    return mu, sd\n",
        "\n",
        "def standardize_transform(X, mu, sd):\n",
        "    return (X - mu) / sd\n",
        "\n",
        "def confusion(y_true, y_pred):\n",
        "    tp = np.sum((y_true == 1) & (y_pred == 1))\n",
        "    tn = np.sum((y_true == 0) & (y_pred == 0))\n",
        "    fp = np.sum((y_true == 0) & (y_pred == 1))\n",
        "    fn = np.sum((y_true == 1) & (y_pred == 0))\n",
        "    return np.array([[tn, fp],\n",
        "                     [fn, tp]])"
      ],
      "metadata": {
        "id": "ZWUZCS4rCvjf"
      },
      "execution_count": null,
      "outputs": []
    },
    {
      "cell_type": "code",
      "source": [
        "def main():\n",
        "    # Load Titanic data\n",
        "    df = pd.read_csv(\"TitanicPreprocessed.csv\")\n",
        "\n",
        "\n",
        "    X = df.drop(columns=['Survived']).to_numpy(dtype=float)\n",
        "    y = df['Survived'].to_numpy(dtype=int)\n",
        "\n",
        "\n",
        "    X_train, X_test, y_train, y_test = stratified_train_test_split(X, y, test_size=0.2, random_state=42)\n",
        "\n",
        "    mu, sd = standardize_fit(X_train)\n",
        "    X_train = standardize_transform(X_train, mu, sd)\n",
        "    X_test  = standardize_transform(X_test,  mu, sd)\n",
        "\n",
        "\n",
        "    ann = ANN(architecture=[8,4], activations=[np.tanh, ReLU], mode=0)\n",
        "    ann.fit(X_train, y_train, eta=3e-2, epochs=3000, show_curve=True)\n",
        "\n",
        "\n",
        "    y_hat_train = ann.predict(X_train)\n",
        "    y_hat_test  = ann.predict(X_test)\n",
        "\n",
        "    print(f\"Train Accuracy: {accuracy(y_train, y_hat_train):.4f}\")\n",
        "    print(f\"Test  Accuracy: {accuracy(y_test,  y_hat_test):.4f}\")\n",
        "\n",
        "    cm = confusion(y_test, y_hat_test)\n",
        "    print(\"\\nConfusion Matrix (rows=true, cols=pred):\\n\", cm)"
      ],
      "metadata": {
        "id": "ifbiIKSoDmk-"
      },
      "execution_count": null,
      "outputs": []
    },
    {
      "cell_type": "code",
      "source": [
        "if __name__ == \"__main__\":\n",
        "    main()"
      ],
      "metadata": {
        "colab": {
          "base_uri": "https://localhost:8080/",
          "height": 581
        },
        "id": "ChUMuOaqD-7L",
        "outputId": "6a04beab-a715-4118-c060-307f53869fdc"
      },
      "execution_count": null,
      "outputs": [
        {
          "output_type": "stream",
          "name": "stdout",
          "text": [
            "Train Accuracy: 0.8417\n",
            "Test  Accuracy: 0.8305\n",
            "\n",
            "Confusion Matrix (rows=true, cols=pred):\n",
            " [[97 12]\n",
            " [18 50]]\n"
          ]
        },
        {
          "output_type": "display_data",
          "data": {
            "text/plain": [
              "<Figure size 640x480 with 1 Axes>"
            ],
            "image/png": "[encoded data removed]"
          },
          "metadata": {}
        }
      ]
    }
  ]
}